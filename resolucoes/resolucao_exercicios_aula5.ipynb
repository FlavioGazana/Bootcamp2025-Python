{
 "cells": [
  {
   "cell_type": "markdown",
   "id": "97531ee3",
   "metadata": {},
   "source": [
    "# Exercícios sobre **Funções** em Python\n"
   ]
  },
  {
   "cell_type": "code",
   "execution_count": null,
   "id": "5ec239dc",
   "metadata": {},
   "outputs": [],
   "source": [
    "# Conteúdo de referência \n",
    "def bom_dia(nome): \n",
    "    frase = f\"tenha um bom dia {nome}\"\n",
    "    return frase \n",
    "\n",
    "def soma(valor1, valor2):\n",
    "    print(valor1 + valor2)  # esta versão apenas imprime e não retorna\n",
    "\n",
    "def correr(): #aqui a função não tem nenhum parâmetro\n",
    "    print(\"Você está correndo\")\n",
    "\n",
    "def calcular_imc(peso, altura):\n",
    "    calculo = peso / (altura ** 2)\n",
    "    if calculo < 18.5:\n",
    "        print(\"você está abaixo do peso recomendado para a sua altura\")\n",
    "    elif calculo >= 18.5 and calculo < 25:\n",
    "        print(\"você está no peso recomendado para a sua altura\")\n",
    "    elif calculo >= 25 and calculo < 30:\n",
    "        print(\"você está um pouco acima do peso recomendado para a sua altura\")\n",
    "    elif calculo >= 30 and calculo < 40:\n",
    "        print(\"você está consideravelmente acima do peso recomendado para a sua altura\")\n",
    "    else:\n",
    "        print(\"procure ajuda, você está extremamente acima do peso recomendado para a a sua altura\")\n",
    "    return calculo\n"
   ]
  },
  {
   "cell_type": "markdown",
   "id": "ed1bdd9b",
   "metadata": {},
   "source": [
    "## Exercício 1 — (Fácil)\n",
    "\n",
    "Implemente a função `bom_dia(nome)` que **retorna** a frase \"tenha um bom dia <nome>\". Em seguida, chame a função com o seu nome e **imprima** o resultado.\n",
    "\n",
    "**Dica:** Use `return` para devolver a string e depois `print(bom_dia('SeuNome'))`."
   ]
  },
  {
   "cell_type": "code",
   "execution_count": 17,
   "id": "4771e5cb",
   "metadata": {},
   "outputs": [
    {
     "data": {
      "text/plain": [
       "'tenha um bom dia Flavio'"
      ]
     },
     "execution_count": 17,
     "metadata": {},
     "output_type": "execute_result"
    }
   ],
   "source": [
    "# Escreva sua solução abaixo\n",
    "\n",
    "def bom_dia(nome):\n",
    "    frase = f\"tenha um bom dia {nome}\"\n",
    "    return frase\n",
    "\n",
    "bom_dia(\"Flavio\")"
   ]
  },
  {
   "cell_type": "markdown",
   "id": "6c108feb",
   "metadata": {},
   "source": [
    "## Exercício 2 — (Fácil → Médio)\n",
    "\n",
    "Crie a função `soma_retorna(valor1, valor2)` que **retorna** a soma. Em seguida calcule `soma_da_soma = soma_retorna(1, 1) + 1` e imprima.\n",
    "\n",
    "**Dica:** Substitua o `print` por `return` dentro da função."
   ]
  },
  {
   "cell_type": "code",
   "execution_count": 23,
   "id": "2b96667f",
   "metadata": {},
   "outputs": [
    {
     "name": "stdout",
     "output_type": "stream",
     "text": [
      "16\n"
     ]
    }
   ],
   "source": [
    "# Escreva sua solução abaixo\n",
    "\n",
    "def soma(valor1, valor2):\n",
    "    return valor1 + valor2\n",
    "\n",
    "soma_da_soma = soma(10, 5) + 1\n",
    "\n",
    "print(soma_da_soma)"
   ]
  },
  {
   "cell_type": "markdown",
   "id": "c8f8ceb5",
   "metadata": {},
   "source": [
    "## Exercício 3 — (Médio)\n",
    "\n",
    "Implemente a função `correr()` (sem parâmetros) que imprima a mensagem \"Você está correndo\". Depois chame a função duas vezes seguidas.\n",
    "\n",
    "**Dica:** A função não recebe parâmetros; use `print(...)` dentro dela e chame `correr()` duas vezes."
   ]
  },
  {
   "cell_type": "code",
   "execution_count": 25,
   "id": "b4c95c91",
   "metadata": {},
   "outputs": [
    {
     "name": "stdout",
     "output_type": "stream",
     "text": [
      "Você está correndo\n",
      "Você está correndo\n"
     ]
    }
   ],
   "source": [
    "# Escreva sua solução abaixo\n",
    "\n",
    "def correr():\n",
    "    print(\"Você está correndo\")\n",
    "\n",
    "correr()\n",
    "correr()"
   ]
  },
  {
   "cell_type": "markdown",
   "id": "b83142bc",
   "metadata": {},
   "source": [
    "## Exercício 4 — (Médio → Difícil)\n",
    "\n",
    "Reescreva `calcular_imc(peso, altura)` mantendo as faixas; a função deve **imprimir** a categoria e **retornar** o IMC (float). Depois chame com `94, 1.86` e printe `IMC: <valor com 2 casas>`.\n",
    "\n",
    "**Dica:** Ao final da função use `return calculo`. Para imprimir com 2 casas use `f\"{imc:.2f}\"`."
   ]
  },
  {
   "cell_type": "code",
   "execution_count": 27,
   "id": "5fb4e628",
   "metadata": {},
   "outputs": [
    {
     "data": {
      "text/plain": [
       "'27.17'"
      ]
     },
     "execution_count": 27,
     "metadata": {},
     "output_type": "execute_result"
    }
   ],
   "source": [
    "# Escreva sua solução abaixo\n",
    "\n",
    "def calcular_imc(peso, altura):\n",
    "    calculo = peso / (altura * altura)\n",
    "    calculo_formatado = f\"{calculo:.2f}\"\n",
    "    return calculo_formatado\n",
    "\n",
    "calcular_imc(94, 1.86)\n"
   ]
  },
  {
   "cell_type": "markdown",
   "id": "eccfbc82",
   "metadata": {},
   "source": [
    "## Exercício 5 — (Difícil — Integração)\n",
    "\n",
    "Crie `resumo_pessoa(nome, peso, altura)` que chame `calcular_imc`, guarde o IMC e retorne uma string: \"<nome> — IMC: <valor com 2 casas> — <mensagem da categoria>\".\n",
    "\n",
    "Observação: use apenas recursos já apresentados na aula.\n",
    "\n",
    "**Dica:** Dentro de `resumo_pessoa` chame `calcular_imc` e monte a string com f-string, formatando o IMC com `:.2f`."
   ]
  },
  {
   "cell_type": "code",
   "execution_count": 28,
   "id": "da8c6298",
   "metadata": {},
   "outputs": [
    {
     "data": {
      "text/plain": [
       "'Claudio o seu imc é de 25.51'"
      ]
     },
     "execution_count": 28,
     "metadata": {},
     "output_type": "execute_result"
    }
   ],
   "source": [
    "# Escreva sua solução abaixo\n",
    "\n",
    "def resumo(nome, peso, altura):\n",
    "    imc = calcular_imc(peso, altura)\n",
    "    resumo = f\"{nome} o seu imc é de {imc}\"\n",
    "    return resumo\n",
    "\n",
    "\n",
    "resumo(\"Claudio\",100, 1.98)\n"
   ]
  }
 ],
 "metadata": {
  "kernelspec": {
   "display_name": "Python 3",
   "language": "python",
   "name": "python3"
  },
  "language_info": {
   "codemirror_mode": {
    "name": "ipython",
    "version": 3
   },
   "file_extension": ".py",
   "mimetype": "text/x-python",
   "name": "python",
   "nbconvert_exporter": "python",
   "pygments_lexer": "ipython3",
   "version": "3.12.3"
  }
 },
 "nbformat": 4,
 "nbformat_minor": 5
}
