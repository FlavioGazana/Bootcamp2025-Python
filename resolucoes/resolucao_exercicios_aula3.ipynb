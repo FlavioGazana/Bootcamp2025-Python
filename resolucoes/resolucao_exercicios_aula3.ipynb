{
 "cells": [
  {
   "cell_type": "markdown",
   "id": "7a2d0cc9",
   "metadata": {},
   "source": [
    "# Exercícios - Controle de Fluxo (if/elif/else, for, while)\n",
    "\n",
    "Este notebook contém 10 exercícios com dificuldade gradual. Cada exercício tem um enunciado curto e uma dica — as células de código estão vazias para o aluno implementar."
   ]
  },
  {
   "cell_type": "markdown",
   "id": "118d6e5e",
   "metadata": {},
   "source": [
    "### 1) Positivo, negativo ou zero — (Fácil)\n",
    "\n",
    "Peça um número inteiro ao usuário e imprima se ele é **positivo**, **negativo** ou **zero**.\n",
    "\n",
    "**Dica:** use `if`, `elif` e `else`."
   ]
  },
  {
   "cell_type": "code",
   "execution_count": null,
   "id": "0859023d",
   "metadata": {},
   "outputs": [
    {
     "name": "stdout",
     "output_type": "stream",
     "text": [
      "Esse é zero patrão\n"
     ]
    }
   ],
   "source": [
    "# Escreva seu código aqui\n",
    "# fala galerinha do mal muahahahaha\n",
    "# Caio paga nois\n",
    "\n",
    "numero = int(input(\"Insira um numero: \")) \n",
    "\n",
    "if numero > 0: \n",
    "    print(\"Numero Positivo!\")\n",
    "elif numero < 0:\n",
    "    print(\"Numero Negativo!\")\n",
    "else:\n",
    "    print(\"Esse é zero patrão\")"
   ]
  },
  {
   "cell_type": "markdown",
   "id": "98192674",
   "metadata": {},
   "source": [
    "### 2) Par ou ímpar — (Fácil)\n",
    "\n",
    "Peça um número inteiro e diga se ele é **par** ou **ímpar**.\n",
    "\n",
    "**Dica:** use o operador `%` (resto da divisão) e `if/else`."
   ]
  },
  {
   "cell_type": "code",
   "execution_count": null,
   "id": "737acca8",
   "metadata": {},
   "outputs": [
    {
     "name": "stdout",
     "output_type": "stream",
     "text": [
      "Par\n"
     ]
    }
   ],
   "source": [
    "# Escreva seu código aqui\n",
    "\n",
    "numero = int(input(\"Insira um numero: \")) \n",
    "\n",
    "if numero % 2 == 0: \n",
    "    print(\"Par\")\n",
    "else:\n",
    "    print(\"Impar\")"
   ]
  },
  {
   "cell_type": "markdown",
   "id": "b3f2b784",
   "metadata": {},
   "source": [
    "### 3) Calculadora simples — (Fácil–Médio)\n",
    "\n",
    "Peça dois números e uma operação (`+`, `-`, `*` ou `/`) ao usuário. Mostre o resultado da operação escolhida.\n",
    "\n",
    "**Dica:** use `if/elif/else` para tratar as quatro operações; converta entradas com `int()` ou `float()`."
   ]
  },
  {
   "cell_type": "code",
   "execution_count": null,
   "id": "caa37942",
   "metadata": {},
   "outputs": [
    {
     "name": "stdout",
     "output_type": "stream",
     "text": [
      "escolha uma das operações matemáticas abaixo\n",
      "1 - adição\n",
      "2 - subtração\n",
      "3 - multiplicação\n",
      "4 - divisão\n",
      "\n",
      "\n",
      "5.0\n"
     ]
    }
   ],
   "source": [
    "# Escreva seu código aqui\n",
    "# famosa calculadora2\n",
    "print(\"escolha uma das operações matemáticas abaixo\\n1 - adição\\n2 - subtração\\n3 - multiplicação\\n4 - divisão\")\n",
    "escolha = int(input(\"escolha uma das operações matemáticas\"))\n",
    "\n",
    "while escolha < 0 or escolha > 4: #usando while podemos garantir que o usuário irá inserir uma opção válida\n",
    "    escolha = int(input(\"operação inválida, escolha uma das operações matemáticas\"))\n",
    "\n",
    "num1 = int(input(\"Insira o primeiro número\"))\n",
    "num2 = int(input(\"Insira o segundo número\"))\n",
    "\n",
    "\n",
    "if escolha == 1:\n",
    "    print(num1 + num2)\n",
    "elif escolha == 2:\n",
    "    print(num1 - num2)\n",
    "elif escolha == 3:\n",
    "    print(num1 * num2)\n",
    "elif escolha == 4:\n",
    "    print(num1 / num2)\n"
   ]
  },
  {
   "cell_type": "markdown",
   "id": "5843d75c",
   "metadata": {},
   "source": [
    "### 4) Maior, menor ou iguais — (Fácil–Médio)\n",
    "\n",
    "Peça dois números e imprima qual é o maior, ou se são iguais.\n",
    "\n",
    "**Dica:** use `if`, `elif` (para igualdade) e `else`."
   ]
  },
  {
   "cell_type": "code",
   "execution_count": 2,
   "id": "cd2efbf5",
   "metadata": {},
   "outputs": [
    {
     "name": "stdout",
     "output_type": "stream",
     "text": [
      "o número 10 é igual ao número 10\n"
     ]
    }
   ],
   "source": [
    "# Escreva seu código aqui\n",
    "\n",
    "num1 = int(input(\"Insira aqui o primeiro número\"))\n",
    "num2 = int(input(\"Insira aqui o primeiro número\"))\n",
    "\n",
    "if num1 > num2:\n",
    "    print(f\"o número {num1} é maior que o número{num2}\")\n",
    "elif num1 == num2:\n",
    "    print(f\"o número {num1} é igual ao número {num2}\")\n",
    "else:\n",
    "    print(f\"o número {num2} é maior que o número {num1}\")\n"
   ]
  },
  {
   "cell_type": "markdown",
   "id": "3a1b9a03",
   "metadata": {},
   "source": [
    "### 5) Ambos maiores que 10 — (Fácil–Médio)\n",
    "\n",
    "Peça dois números e imprima `True` se **ambos** forem maiores que 10; caso contrário imprima `False`.\n",
    "\n",
    "**Dica:** use o operador `and` com comparações."
   ]
  },
  {
   "cell_type": "code",
   "execution_count": null,
   "id": "79d14ada",
   "metadata": {},
   "outputs": [],
   "source": [
    "# Escreva seu código aqui\n",
    "\n",
    "num1 = int(input(\"Insira aqui o primeiro número\"))\n",
    "num2 = int(input(\"Insira aqui o primeiro número\"))\n",
    "\n",
    "if num1 and num2 > 10:\n",
    "    print(True)\n",
    "else:\n",
    "    print(False)"
   ]
  },
  {
   "cell_type": "markdown",
   "id": "2f692895",
   "metadata": {},
   "source": [
    "### 6) Soma de 1 até N com `for` — (Médio)\n",
    "\n",
    "Peça um número inteiro `N` (positivo) e calcule a soma dos números de `1` até `N`. Mostre o resultado.\n",
    "\n",
    "**Dica:** use um `for` com `range(1, N+1)` e acumule em uma variável."
   ]
  },
  {
   "cell_type": "code",
   "execution_count": 4,
   "id": "e260c146",
   "metadata": {},
   "outputs": [
    {
     "name": "stdout",
     "output_type": "stream",
     "text": [
      "55\n"
     ]
    }
   ],
   "source": [
    "# Escreva seu código aqui\n",
    "\n",
    "n = int(input(\"Insira aqui o seu número\"))\n",
    "cont = 0\n",
    "for e in range(0, n+1, 1):\n",
    "    cont += e\n",
    "\n",
    "print(cont)\n",
    "\n"
   ]
  },
  {
   "cell_type": "markdown",
   "id": "d7cfa533",
   "metadata": {},
   "source": [
    "### 7) Contador decrescente com `while` — (Médio)\n",
    "\n",
    "Faça um contador que começa em **100** e, enquanto for maior ou igual a **10**, diminua o contador de 1 em 1 (mostrando o valor a cada passo).\n",
    "\n",
    "**Dica:** use `while contador >= 10:` e atualize `contador -= 1`."
   ]
  },
  {
   "cell_type": "code",
   "execution_count": 9,
   "id": "f5e5e804",
   "metadata": {},
   "outputs": [
    {
     "name": "stdout",
     "output_type": "stream",
     "text": [
      "100\n",
      "99\n",
      "98\n",
      "97\n",
      "96\n",
      "95\n",
      "94\n",
      "93\n",
      "92\n",
      "91\n",
      "90\n",
      "89\n",
      "88\n",
      "87\n",
      "86\n",
      "85\n",
      "84\n",
      "83\n",
      "82\n",
      "81\n",
      "80\n",
      "79\n",
      "78\n",
      "77\n",
      "76\n",
      "75\n",
      "74\n",
      "73\n",
      "72\n",
      "71\n",
      "70\n",
      "69\n",
      "68\n",
      "67\n",
      "66\n",
      "65\n",
      "64\n",
      "63\n",
      "62\n",
      "61\n",
      "60\n",
      "59\n",
      "58\n",
      "57\n",
      "56\n",
      "55\n",
      "54\n",
      "53\n",
      "52\n",
      "51\n",
      "50\n",
      "49\n",
      "48\n",
      "47\n",
      "46\n",
      "45\n",
      "44\n",
      "43\n",
      "42\n",
      "41\n",
      "40\n",
      "39\n",
      "38\n",
      "37\n",
      "36\n",
      "35\n",
      "34\n",
      "33\n",
      "32\n",
      "31\n",
      "30\n",
      "29\n",
      "28\n",
      "27\n",
      "26\n",
      "25\n",
      "24\n",
      "23\n",
      "22\n",
      "21\n",
      "20\n",
      "19\n",
      "18\n",
      "17\n",
      "16\n",
      "15\n",
      "14\n",
      "13\n",
      "12\n",
      "11\n",
      "10\n"
     ]
    }
   ],
   "source": [
    "# Escreva seu código aqui\n",
    "# enquanto caio n me paga: eu triste\n",
    "\n",
    "contador = 100\n",
    "while contador >= 10:\n",
    "    print(contador)\n",
    "    contador = contador - 1"
   ]
  },
  {
   "cell_type": "markdown",
   "id": "b431b980",
   "metadata": {},
   "source": [
    "### 8) Validação de entrada com `while` — (Médio)\n",
    "\n",
    "Peça ao usuário um número positivo. Se o usuário digitar um número negativo ou zero, peça novamente até receber um número positivo. Quando receber, imprima “Obrigado!” e o número.\n",
    "\n",
    "**Dica:** use `while` para repetir enquanto a condição for inválida."
   ]
  },
  {
   "cell_type": "code",
   "execution_count": null,
   "id": "8d9f2a42",
   "metadata": {},
   "outputs": [
    {
     "name": "stdout",
     "output_type": "stream",
     "text": [
      "False\n",
      "False\n",
      "False\n",
      "False\n"
     ]
    }
   ],
   "source": [
    "# Escreva seu código aqui\n",
    "\n",
    "caio_me_paga = False\n",
    "\n",
    "while caio_me_paga != True:\n",
    "    pagou = input(\"Caio pagou? (S)\").upper()\n",
    "    print(caio_me_paga)\n",
    "    if pagou == \"S\":\n",
    "        caio_me_paga = True\n",
    "        print(caio_me_paga)\n"
   ]
  },
  {
   "cell_type": "markdown",
   "id": "1c0ac927",
   "metadata": {},
   "source": [
    "### 9) Simulação de compra simples — (Médio)\n",
    "\n",
    "Peça o **nome do produto**, o **preço** (número) e se o pagamento será **à vista** ou **parcelado**. Se for à vista, aplique **20% de desconto**; se for parcelado, mantenha o preço. No final, mostre o nome do produto e o valor final a pagar.\n",
    "\n",
    "**Dica:** use `if/else` para aplicar o desconto; converta o preço em `float`."
   ]
  },
  {
   "cell_type": "code",
   "execution_count": null,
   "id": "9c463d62",
   "metadata": {},
   "outputs": [
    {
     "name": "stdout",
     "output_type": "stream",
     "text": [
      "escolha uma das formas de pagamento:\n",
      "    1- pagar a vista\n",
      "    2- pagar parcelado\n",
      "ESCOLHA INVÁLIDA, INSIRA NOVAMENTE:\n",
      "          1- pagar a vista\n",
      "          2- pagar parcelado\n",
      "ESCOLHA INVÁLIDA, INSIRA NOVAMENTE:\n",
      "          1- pagar a vista\n",
      "          2- pagar parcelado\n",
      "ESCOLHA INVÁLIDA, INSIRA NOVAMENTE:\n",
      "          1- pagar a vista\n",
      "          2- pagar parcelado\n",
      "ESCOLHA INVÁLIDA, INSIRA NOVAMENTE:\n",
      "          1- pagar a vista\n",
      "          2- pagar parcelado\n",
      "Você comprou o produto Vassoura por um total de R$90.0\n"
     ]
    }
   ],
   "source": [
    "# Escreva seu código aqui\n",
    "nome_produto = input(\"Insira aqui o nome do produto\")\n",
    "preco = float(input(\"Insira aqui o preço do produto\"))\n",
    "print(f\"\"\"escolha uma das formas de pagamento:\n",
    "    1- pagar a vista\n",
    "    2- pagar parcelado\"\"\")\n",
    "\n",
    "escolha = int(input(\"Insira aqui o número referente a forma de pagamento\"))\n",
    "\n",
    "while escolha != 1 and escolha != 2:\n",
    "    print(f\"\"\"ESCOLHA INVÁLIDA, INSIRA NOVAMENTE:\n",
    "          1- pagar a vista\n",
    "          2- pagar parcelado\"\"\")\n",
    "    escolha = int(input(\"Insira aqui o número referente a forma de pagamento\"))\n",
    "    \n",
    "if escolha == 1:\n",
    "    preco = preco - ((preco/100) * 20) #fórmula da porcentagem\n",
    "    print(f\"Você comprou o produto {nome_produto} por um total de R${preco}\")\n",
    "else:\n",
    "    print(f\"Você comprou o produto {nome_produto} por um total de R${preco}\")\n",
    "\n"
   ]
  },
  {
   "cell_type": "markdown",
   "id": "88d45f53",
   "metadata": {},
   "source": [
    "### 10) Coleta e análise de 5 números — (Médio–Desafiador)\n",
    "\n",
    "Peça 5 números inteiros (um por vez). Ao final mostre:\n",
    "- a soma de todos os números;\n",
    "- quantos deles são pares;\n",
    "- quantos são negativos.\n",
    "\n",
    "**Dica:** use um `for` para pedir os 5 valores, e dentro do laço use `if` para testar paridade e sinal, acumulando contadores."
   ]
  },
  {
   "cell_type": "code",
   "execution_count": 5,
   "id": "fe42d3c2",
   "metadata": {},
   "outputs": [
    {
     "name": "stdout",
     "output_type": "stream",
     "text": [
      "1\n",
      "2\n",
      "3\n",
      "9\n",
      "-3\n",
      "a soma total dos números é de 12\n",
      "a quantidade de números pares é de 1\n",
      "a quantidade de números negativos é de 1\n"
     ]
    }
   ],
   "source": [
    "# Escreva seu código aqui\n",
    "cont = 0\n",
    "cont2 = 0\n",
    "cont3 = 0\n",
    "\n",
    "for e in range (0, 5, 1):\n",
    "    num = int(input(\"Insira aqui o número\"))\n",
    "    cont2 += num\n",
    "    print(num)\n",
    "    if num % 2 == 0:\n",
    "        cont +=1\n",
    "    elif num < 0:\n",
    "        cont3 += 1\n",
    "\n",
    "print(f\"a soma total dos números é de {cont2}\")\n",
    "print(f\"a quantidade de números pares é de {cont}\")\n",
    "print(f\"a quantidade de números negativos é de {cont3}\")\n",
    "    "
   ]
  }
 ],
 "metadata": {
  "kernelspec": {
   "display_name": "Python 3",
   "language": "python",
   "name": "python3"
  },
  "language_info": {
   "codemirror_mode": {
    "name": "ipython",
    "version": 3
   },
   "file_extension": ".py",
   "mimetype": "text/x-python",
   "name": "python",
   "nbconvert_exporter": "python",
   "pygments_lexer": "ipython3",
   "version": "3.13.2"
  }
 },
 "nbformat": 4,
 "nbformat_minor": 5
}
