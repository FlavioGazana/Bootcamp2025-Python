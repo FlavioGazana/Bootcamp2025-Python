{
 "cells": [
  {
   "cell_type": "markdown",
   "id": "c284cfb0",
   "metadata": {},
   "source": [
    "## Exercícios - Aula 2: Operadores Matemáticos"
   ]
  },
  {
   "cell_type": "markdown",
   "id": "41e9255a",
   "metadata": {},
   "source": [
    "**Exercício 1:**\n",
    "\n",
    "Peça dois números inteiros ao usuário e mostre a soma deles."
   ]
  },
  {
   "cell_type": "code",
   "execution_count": null,
   "id": "89a4137e",
   "metadata": {},
   "outputs": [],
   "source": [
    "# escreva seu código aqui\n",
    "\n",
    "num = int(input(\"Insira um número\"))\n",
    "num2 = int(input(\"Insira um número\"))\n",
    "\n",
    "print(num + num2)"
   ]
  },
  {
   "cell_type": "markdown",
   "id": "afa4aa9a",
   "metadata": {},
   "source": [
    "**Exercício 2:**\n",
    "\n",
    "Crie duas variáveis com valores diferentes e mostre a subtração do maior valor pelo menor."
   ]
  },
  {
   "cell_type": "code",
   "execution_count": 1,
   "id": "6fa27d7c",
   "metadata": {},
   "outputs": [
    {
     "name": "stdout",
     "output_type": "stream",
     "text": [
      "999\n"
     ]
    }
   ],
   "source": [
    "# escreva seu código aqui\n",
    "\n",
    "x = 1\n",
    "y = 1000\n",
    "\n",
    "print(y - x)"
   ]
  },
  {
   "cell_type": "markdown",
   "id": "d6607dd7",
   "metadata": {},
   "source": [
    "**Exercício 3:**\n",
    "\n",
    "Faça um programa que multiplique dois números e mostre o resultado."
   ]
  },
  {
   "cell_type": "code",
   "execution_count": null,
   "id": "c29341b4",
   "metadata": {},
   "outputs": [],
   "source": [
    "# escreva seu código aqui\n",
    "\n",
    "x = 10\n",
    "y = 20\n",
    "\n",
    "print(x * y)"
   ]
  },
  {
   "cell_type": "markdown",
   "id": "9caaee4e",
   "metadata": {},
   "source": [
    "**Exercício 4:**\n",
    "\n",
    "Peça ao usuário dois números e mostre:\n",
    "- A divisão normal (`/`)\n",
    "- A divisão inteira (`//`)\n",
    "- O resto da divisão (`%`)"
   ]
  },
  {
   "cell_type": "code",
   "execution_count": 3,
   "id": "5c876ed3",
   "metadata": {},
   "outputs": [
    {
     "name": "stdout",
     "output_type": "stream",
     "text": [
      "3.3333333333333335\n",
      "3\n",
      "1\n"
     ]
    }
   ],
   "source": [
    "# escreva seu código aqui\n",
    "num = int(input(\"Insira um número\"))\n",
    "num2 = int(input(\"Insira um número\"))\n",
    "\n",
    "\n",
    "print(num / num2)\n",
    "print(num // num2)\n",
    "print(num % num2)"
   ]
  },
  {
   "cell_type": "markdown",
   "id": "fd1db6b3",
   "metadata": {},
   "source": [
    "**Exercício 5:**\n",
    "\n",
    "Crie um programa que calcule a potência de um número: peça ao usuário a **base** e o **expoente**, e mostre o resultado usando `**`."
   ]
  },
  {
   "cell_type": "code",
   "execution_count": 4,
   "id": "6cb563ed",
   "metadata": {},
   "outputs": [
    {
     "name": "stdout",
     "output_type": "stream",
     "text": [
      "27\n"
     ]
    }
   ],
   "source": [
    "# escreva seu código aqui\n",
    "\n",
    "base = int(input(\"Insira a base da potência\"))\n",
    "expoente = int(input(\"Insira o expoente da potência\"))\n",
    "\n",
    "print(base ** expoente)"
   ]
  }
 ],
 "metadata": {
  "kernelspec": {
   "display_name": "Python 3",
   "language": "python",
   "name": "python3"
  },
  "language_info": {
   "codemirror_mode": {
    "name": "ipython",
    "version": 3
   },
   "file_extension": ".py",
   "mimetype": "text/x-python",
   "name": "python",
   "nbconvert_exporter": "python",
   "pygments_lexer": "ipython3",
   "version": "3.13.2"
  }
 },
 "nbformat": 4,
 "nbformat_minor": 5
}
