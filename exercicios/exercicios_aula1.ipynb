{
 "cells": [
  {
   "cell_type": "markdown",
   "id": "77d2dd3e",
   "metadata": {},
   "source": [
    "## Exercícios - Aula 1: Valores, Variáveis e Tipos"
   ]
  },
  {
   "cell_type": "markdown",
   "id": "a12266b1",
   "metadata": {},
   "source": [
    "**Exercício 1:**\n",
    "\n",
    "Crie uma variável chamada `nome` e atribua a ela uma string com o seu nome. Depois, crie outra variável chamada `idade` e atribua a sua idade (em número inteiro)."
   ]
  },
  {
   "cell_type": "code",
   "execution_count": 1,
   "id": "ac80177b",
   "metadata": {},
   "outputs": [],
   "source": [
    "# escreva seu código aqui\n",
    "\n"
   ]
  },
  {
   "cell_type": "markdown",
   "id": "89ab50dd",
   "metadata": {},
   "source": [
    "**Exercício 2:**\n",
    "\n",
    "Crie três variáveis: uma do tipo `int`, uma do tipo `float` e uma do tipo `string`. Depois, use `print()` para mostrar o valor de cada uma."
   ]
  },
  {
   "cell_type": "code",
   "execution_count": 2,
   "id": "e8d77cf3",
   "metadata": {},
   "outputs": [],
   "source": [
    "# escreva seu código aqui\n",
    "\n"
   ]
  },
  {
   "cell_type": "markdown",
   "id": "6b5d03ad",
   "metadata": {},
   "source": [
    "**Exercício 3:**\n",
    "\n",
    "Atribua o valor `True` para uma variável chamada `chovendo` e `False` para uma variável chamada `neve`. Imprima as duas."
   ]
  },
  {
   "cell_type": "code",
   "execution_count": 3,
   "id": "747958a7",
   "metadata": {},
   "outputs": [],
   "source": [
    "# escreva seu código aqui\n",
    "\n"
   ]
  },
  {
   "cell_type": "markdown",
   "id": "a8a66a21",
   "metadata": {},
   "source": [
    "**Exercício 4:**\n",
    "\n",
    "Escreva no código diretamente um valor do tipo `int`, outro do tipo `float` e outro do tipo `string`. Depois, salve cada um em uma variável com nomes diferentes."
   ]
  },
  {
   "cell_type": "code",
   "execution_count": 4,
   "id": "44508807",
   "metadata": {},
   "outputs": [],
   "source": [
    "# escreva seu código aqui\n",
    "\n"
   ]
  },
  {
   "cell_type": "markdown",
   "id": "999d6aff",
   "metadata": {},
   "source": [
    "**Exercício 5:**\n",
    "\n",
    "Crie uma variável chamada `cidade` e atribua o nome de uma cidade. Depois, crie outra variável chamada `populacao` e atribua um número inteiro qualquer. Mostre as duas variáveis na tela."
   ]
  },
  {
   "cell_type": "code",
   "execution_count": 5,
   "id": "7717b884",
   "metadata": {},
   "outputs": [],
   "source": [
    "# escreva seu código aqui\n",
    "\n",
    "\n"
   ]
  }
 ],
 "metadata": {
  "kernelspec": {
   "display_name": "Python 3",
   "language": "python",
   "name": "python3"
  },
  "language_info": {
   "codemirror_mode": {
    "name": "ipython",
    "version": 3
   },
   "file_extension": ".py",
   "mimetype": "text/x-python",
   "name": "python",
   "nbconvert_exporter": "python",
   "pygments_lexer": "ipython3",
   "version": "3.13.2"
  }
 },
 "nbformat": 4,
 "nbformat_minor": 5
}
