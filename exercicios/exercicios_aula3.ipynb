{
 "cells": [
  {
   "cell_type": "markdown",
   "id": "7a2d0cc9",
   "metadata": {},
   "source": [
    "# Exercícios - Controle de Fluxo (if/elif/else, for, while)\n",
    "\n",
    "Este notebook contém 10 exercícios com dificuldade gradual. Cada exercício tem um enunciado curto e uma dica — as células de código estão vazias para o aluno implementar."
   ]
  },
  {
   "cell_type": "markdown",
   "id": "118d6e5e",
   "metadata": {},
   "source": [
    "### 1) Positivo, negativo ou zero — (Fácil)\n",
    "\n",
    "Peça um número inteiro ao usuário e imprima se ele é **positivo**, **negativo** ou **zero**.\n",
    "\n",
    "**Dica:** use `if`, `elif` e `else`."
   ]
  },
  {
   "cell_type": "code",
   "execution_count": 1,
   "id": "0859023d",
   "metadata": {},
   "outputs": [],
   "source": [
    "# Escreva seu código aqui\n",
    "\n"
   ]
  },
  {
   "cell_type": "markdown",
   "id": "98192674",
   "metadata": {},
   "source": [
    "### 2) Par ou ímpar — (Fácil)\n",
    "\n",
    "Peça um número inteiro e diga se ele é **par** ou **ímpar**.\n",
    "\n",
    "**Dica:** use o operador `%` (resto da divisão) e `if/else`."
   ]
  },
  {
   "cell_type": "code",
   "execution_count": 2,
   "id": "737acca8",
   "metadata": {},
   "outputs": [],
   "source": [
    "# Escreva seu código aqui\n",
    "\n"
   ]
  },
  {
   "cell_type": "markdown",
   "id": "b3f2b784",
   "metadata": {},
   "source": [
    "### 3) Calculadora simples — (Fácil–Médio)\n",
    "\n",
    "Peça dois números e uma operação (`+`, `-`, `*` ou `/`) ao usuário. Mostre o resultado da operação escolhida.\n",
    "\n",
    "**Dica:** use `if/elif/else` para tratar as quatro operações; converta entradas com `int()` ou `float()`."
   ]
  },
  {
   "cell_type": "code",
   "execution_count": null,
   "id": "caa37942",
   "metadata": {},
   "outputs": [],
   "source": [
    "# Escreva seu código aqui\n",
    "\n",
    "\n"
   ]
  },
  {
   "cell_type": "markdown",
   "id": "5843d75c",
   "metadata": {},
   "source": [
    "### 4) Maior, menor ou iguais — (Fácil–Médio)\n",
    "\n",
    "Peça dois números e imprima qual é o maior, ou se são iguais.\n",
    "\n",
    "**Dica:** use `if`, `elif` (para igualdade) e `else`."
   ]
  },
  {
   "cell_type": "code",
   "execution_count": 4,
   "id": "cd2efbf5",
   "metadata": {},
   "outputs": [],
   "source": [
    "# Escreva seu código aqui\n",
    "\n",
    "\n"
   ]
  },
  {
   "cell_type": "markdown",
   "id": "3a1b9a03",
   "metadata": {},
   "source": [
    "### 5) Ambos maiores que 10 — (Fácil–Médio)\n",
    "\n",
    "Peça dois números e imprima `True` se **ambos** forem maiores que 10; caso contrário imprima `False`.\n",
    "\n",
    "**Dica:** use o operador `and` com comparações."
   ]
  },
  {
   "cell_type": "code",
   "execution_count": 5,
   "id": "79d14ada",
   "metadata": {},
   "outputs": [],
   "source": [
    "# Escreva seu código aqui\n",
    "\n"
   ]
  },
  {
   "cell_type": "markdown",
   "id": "2f692895",
   "metadata": {},
   "source": [
    "### 6) Soma de 1 até N com `for` — (Médio)\n",
    "\n",
    "Peça um número inteiro `N` (positivo) e calcule a soma dos números de `1` até `N`. Mostre o resultado.\n",
    "\n",
    "**Dica:** use um `for` com `range(1, N+1)` e acumule em uma variável."
   ]
  },
  {
   "cell_type": "code",
   "execution_count": 6,
   "id": "e260c146",
   "metadata": {},
   "outputs": [],
   "source": [
    "# Escreva seu código aqui\n",
    "\n",
    "\n"
   ]
  },
  {
   "cell_type": "markdown",
   "id": "d7cfa533",
   "metadata": {},
   "source": [
    "### 7) Contador decrescente com `while` — (Médio)\n",
    "\n",
    "Faça um contador que começa em **100** e, enquanto for maior ou igual a **10**, diminua o contador de 1 em 1 (mostrando o valor a cada passo).\n",
    "\n",
    "**Dica:** use `while contador >= 10:` e atualize `contador -= 1`."
   ]
  },
  {
   "cell_type": "code",
   "execution_count": 7,
   "id": "f5e5e804",
   "metadata": {},
   "outputs": [],
   "source": [
    "# Escreva seu código aqui\n",
    "# enquanto caio n me paga: eu triste\n",
    "\n"
   ]
  },
  {
   "cell_type": "markdown",
   "id": "b431b980",
   "metadata": {},
   "source": [
    "### 8) Validação de entrada com `while` — (Médio)\n",
    "\n",
    "Peça ao usuário um número positivo. Se o usuário digitar um número negativo ou zero, peça novamente até receber um número positivo. Quando receber, imprima “Obrigado!” e o número.\n",
    "\n",
    "**Dica:** use `while` para repetir enquanto a condição for inválida."
   ]
  },
  {
   "cell_type": "code",
   "execution_count": 8,
   "id": "8d9f2a42",
   "metadata": {},
   "outputs": [],
   "source": [
    "# Escreva seu código aqui\n",
    "\n",
    "\n"
   ]
  },
  {
   "cell_type": "markdown",
   "id": "1c0ac927",
   "metadata": {},
   "source": [
    "### 9) Simulação de compra simples — (Médio)\n",
    "\n",
    "Peça o **nome do produto**, o **preço** (número) e se o pagamento será **à vista** ou **parcelado**. Se for à vista, aplique **20% de desconto**; se for parcelado, mantenha o preço. No final, mostre o nome do produto e o valor final a pagar.\n",
    "\n",
    "**Dica:** use `if/else` para aplicar o desconto; converta o preço em `float`."
   ]
  },
  {
   "cell_type": "code",
   "execution_count": 9,
   "id": "9c463d62",
   "metadata": {},
   "outputs": [],
   "source": [
    "# Escreva seu código aqui\n"
   ]
  },
  {
   "cell_type": "markdown",
   "id": "88d45f53",
   "metadata": {},
   "source": [
    "### 10) Coleta e análise de 5 números — (Médio–Desafiador)\n",
    "\n",
    "Peça 5 números inteiros (um por vez). Ao final mostre:\n",
    "- a soma de todos os números;\n",
    "- quantos deles são pares;\n",
    "- quantos são negativos.\n",
    "\n",
    "**Dica:** use um `for` para pedir os 5 valores, e dentro do laço use `if` para testar paridade e sinal, acumulando contadores."
   ]
  },
  {
   "cell_type": "code",
   "execution_count": 10,
   "id": "fe42d3c2",
   "metadata": {},
   "outputs": [],
   "source": [
    "# Escreva seu código aqui\n"
   ]
  }
 ],
 "metadata": {
  "kernelspec": {
   "display_name": "Python 3",
   "language": "python",
   "name": "python3"
  },
  "language_info": {
   "codemirror_mode": {
    "name": "ipython",
    "version": 3
   },
   "file_extension": ".py",
   "mimetype": "text/x-python",
   "name": "python",
   "nbconvert_exporter": "python",
   "pygments_lexer": "ipython3",
   "version": "3.13.2"
  }
 },
 "nbformat": 4,
 "nbformat_minor": 5
}
