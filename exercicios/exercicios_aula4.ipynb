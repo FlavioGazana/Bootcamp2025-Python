{
 "cells": [
  {
   "cell_type": "markdown",
   "id": "9837a499",
   "metadata": {},
   "source": [
    "# Exercícios gerados a partir da aula\n",
    "\n",
    "Os exercícios abaixo foram criados com base no conteúdo principal do arquivo `ficha_modelo4.ipynb`.\n",
    "\n",
    "\n"
   ]
  },
  {
   "cell_type": "markdown",
   "id": "b5d6f2fe",
   "metadata": {},
   "source": [
    "### 1) Verificar positivo/negativo/zero (Fácil)\n",
    "\n",
    "Peça um número inteiro ao usuário e imprima se ele é positivo, negativo ou zero. Use if/elif/else."
   ]
  },
  {
   "cell_type": "code",
   "execution_count": 1,
   "id": "2e06bd2e",
   "metadata": {},
   "outputs": [],
   "source": [
    "# Escreva seu código aqui\n"
   ]
  },
  {
   "cell_type": "markdown",
   "id": "e7795d88",
   "metadata": {},
   "source": [
    "### 2) Par ou ímpar (Fácil)\n",
    "\n",
    "Peça um número inteiro e mostre se ele é par ou ímpar usando o operador %."
   ]
  },
  {
   "cell_type": "code",
   "execution_count": 2,
   "id": "e7e918a2",
   "metadata": {},
   "outputs": [],
   "source": [
    "# Escreva seu código aqui\n"
   ]
  },
  {
   "cell_type": "markdown",
   "id": "7eac1017",
   "metadata": {},
   "source": [
    "### 3) Contador com while (Fácil–Médio)\n",
    "\n",
    "Use um laço while para mostrar os números de 10 até 1 (decrescente)."
   ]
  },
  {
   "cell_type": "code",
   "execution_count": 3,
   "id": "d23f06ec",
   "metadata": {},
   "outputs": [],
   "source": [
    "# Escreva seu código aqui\n"
   ]
  },
  {
   "cell_type": "markdown",
   "id": "9cb3c369",
   "metadata": {},
   "source": [
    "### 4) Soma de 1 até N com for (Médio)\n",
    "\n",
    "Peça um número inteiro N e calcule a soma de 1 até N usando for."
   ]
  },
  {
   "cell_type": "code",
   "execution_count": 4,
   "id": "0d0f4ec5",
   "metadata": {},
   "outputs": [],
   "source": [
    "# Escreva seu código aqui\n",
    "\n"
   ]
  },
  {
   "cell_type": "markdown",
   "id": "02abdd12",
   "metadata": {},
   "source": [
    "### 5) Validação simples de entrada (Médio)\n",
    "\n",
    "Peça ao usuário um número positivo; repita a pergunta enquanto o valor não for positivo (use while)."
   ]
  },
  {
   "cell_type": "code",
   "execution_count": 5,
   "id": "b5a46e83",
   "metadata": {},
   "outputs": [],
   "source": [
    "# Escreva seu código aqui\n"
   ]
  },
  {
   "cell_type": "markdown",
   "id": "c054b924",
   "metadata": {},
   "source": [
    "### 6) Lista e append (Médio)\n",
    "\n",
    "Crie uma lista vazia. Peça 3 frutas ao usuário e adicione cada uma com append. Por fim, imprima a lista."
   ]
  },
  {
   "cell_type": "code",
   "execution_count": 6,
   "id": "69505041",
   "metadata": {},
   "outputs": [],
   "source": [
    "# Escreva seu código aqui\n"
   ]
  },
  {
   "cell_type": "markdown",
   "id": "258611bc",
   "metadata": {},
   "source": [
    "### 7) Remover elementos da lista (Médio)\n",
    "\n",
    "Dada uma lista de notas, remova a primeira ocorrência de um valor pedido pelo usuário usando remove(). Se o valor não existir, mostre uma mensagem informando isso."
   ]
  },
  {
   "cell_type": "code",
   "execution_count": 7,
   "id": "b7d4ab4d",
   "metadata": {},
   "outputs": [],
   "source": [
    "# Escreva seu código aqui\n"
   ]
  },
  {
   "cell_type": "markdown",
   "id": "d4b04a3a",
   "metadata": {},
   "source": [
    "### 8) Usando pop e índices (Médio–Difícil)\n",
    "\n",
    "Peça ao usuário um índice e remova o elemento dessa posição numa lista exemplo usando pop(indice). Trate o caso de índice inválido com mensagem de erro."
   ]
  },
  {
   "cell_type": "code",
   "execution_count": 8,
   "id": "7142078f",
   "metadata": {},
   "outputs": [],
   "source": [
    "# Escreva seu código aqui\n"
   ]
  },
  {
   "cell_type": "markdown",
   "id": "36522211",
   "metadata": {},
   "source": [
    "### 9) Busca em lista de listas com break (Difícil)\n",
    "\n",
    "Dada uma lista de listas (matriz), peça um valor ao usuário e procure-o. Ao encontrar, imprima a posição [i][j] e pare a busca nessa sublista (use break)."
   ]
  },
  {
   "cell_type": "code",
   "execution_count": 9,
   "id": "6a3d55af",
   "metadata": {},
   "outputs": [],
   "source": [
    "# Escreva seu código aqui\n"
   ]
  },
  {
   "cell_type": "markdown",
   "id": "25abff13",
   "metadata": {},
   "source": [
    "### 10) Estatísticas de uma sequência (Desafiador)\n",
    "\n",
    "Peça 5 números inteiros ao usuário. Ao final, mostre a soma, a média, quantos são pares e qual o maior número (use for, if e funções como sum/max)."
   ]
  },
  {
   "cell_type": "code",
   "execution_count": 10,
   "id": "69f5693a",
   "metadata": {},
   "outputs": [],
   "source": [
    "# Escreva seu código aqui\n"
   ]
  }
 ],
 "metadata": {
  "kernelspec": {
   "display_name": "Python 3",
   "language": "python",
   "name": "python3"
  },
  "language_info": {
   "codemirror_mode": {
    "name": "ipython",
    "version": 3
   },
   "file_extension": ".py",
   "mimetype": "text/x-python",
   "name": "python",
   "nbconvert_exporter": "python",
   "pygments_lexer": "ipython3",
   "version": "3.13.2"
  }
 },
 "nbformat": 4,
 "nbformat_minor": 5
}
