{
 "cells": [
  {
   "cell_type": "markdown",
   "id": "4aa90385",
   "metadata": {},
   "source": [
    "Primeiro de tudo é importante entender a diferença entre valor e variável"
   ]
  },
  {
   "cell_type": "code",
   "execution_count": null,
   "id": "a1f88a1d",
   "metadata": {},
   "outputs": [],
   "source": [
    "\"valor\" #simplesmente um dado solto, que pode ser utilizado caso tenha um tipo válido para o python\n",
    "variavel = \"valor\" #é um dado que nomeamos e adicionamos um valor"
   ]
  },
  {
   "cell_type": "markdown",
   "id": "10955968",
   "metadata": {},
   "source": [
    "Agora que você sabe a diferença entre valor e variável, precisamos ver os principais tipos de valor que iremos utilizar"
   ]
  },
  {
   "cell_type": "code",
   "execution_count": null,
   "id": "3d60554d",
   "metadata": {},
   "outputs": [],
   "source": [
    "\"palavra\" #TIPO STRING - (é utilizado quando queremos trabalhar com texto)\n",
    "\n",
    "200 #TIPO INT - (é utilizado quando queremos trabalhar com números inteiros)\n",
    "\n",
    "7.5 #TIPO FLOAT - (é utilizado quando queremos trabalhar com números decimais/quebrados)\n",
    "\n",
    "False and True # TIPO BOOLEAN - (é utilizado para fazer comparações de sim ou não)\n",
    "\n",
    "\n",
    "\n",
    "#AQUI EM BAIXO EXEMPLOS DE VARIÁVEIS DE CADA TIPO\n",
    "\n",
    "cidade = \"Marília\" #string\n",
    "\n",
    "idade = 96 #int\n",
    "\n",
    "idh = 0.798 #float\n",
    "\n",
    "TemBuracoNasRuas = True #boolean\n",
    "\n",
    "MundialDoPalmeiras = False #boolean"
   ]
  },
  {
   "cell_type": "markdown",
   "id": "54018171",
   "metadata": {},
   "source": [
    "Agora que você viu a diferença entre valor e variável e entendeu os tipos de dado que são válidos, escreva abaixo, uma variável de cada tipo (STRING, INT, FLOAT E BOOLEAN)"
   ]
  },
  {
   "cell_type": "code",
   "execution_count": null,
   "id": "bc5d3910",
   "metadata": {},
   "outputs": [],
   "source": [
    "#FAÇA O EXERCÍCIO AQUI\n",
    "\n",
    "carro = \"Bmw\"\n",
    "modelo = 2025\n",
    "altura = 1.86\n",
    "HojeTeveCoffe = True\n"
   ]
  },
  {
   "cell_type": "markdown",
   "id": "732fde10",
   "metadata": {},
   "source": [
    "Agora que vimos os tipos de valores e variáveis que Python aceita, vamos olhar alguns comandos básicos da linguagem"
   ]
  },
  {
   "cell_type": "code",
   "execution_count": null,
   "id": "c1287827",
   "metadata": {},
   "outputs": [
    {
     "name": "stdout",
     "output_type": "stream",
     "text": [
      "\n"
     ]
    },
    {
     "data": {
      "text/plain": [
       "'asdsa'"
      ]
     },
     "execution_count": 1,
     "metadata": {},
     "output_type": "execute_result"
    }
   ],
   "source": [
    "print() #imprime uma mensagem na tela quando executar o código - a sua sintaxe é: print(mensgaem)\n",
    "\n",
    "input() #cria um formulário que quando executado permite a escrita - a sua sintaxe é: variável = input(texto informativo)"
   ]
  },
  {
   "cell_type": "markdown",
   "id": "ca836154",
   "metadata": {},
   "source": [
    "Aqui estão alguns exemplos"
   ]
  },
  {
   "cell_type": "code",
   "execution_count": 17,
   "id": "5f3361c4",
   "metadata": {},
   "outputs": [
    {
     "name": "stdout",
     "output_type": "stream",
     "text": [
      "Boa noite\n",
      "Estão todos bem?\n"
     ]
    }
   ],
   "source": [
    "print(\"Boa noite\") #imprimindo valor\n",
    "\n",
    "mensagem = \"Estão todos bem?\" \n",
    "\n",
    "print(mensagem) #imprimindo variável"
   ]
  },
  {
   "cell_type": "code",
   "execution_count": null,
   "id": "16236175",
   "metadata": {},
   "outputs": [],
   "source": [
    "nome = input(\"Insira o seu nome\")\n",
    "email = input(\"Insira o seu email\")\n",
    "senha = input(\"Insira uma senha\")\n",
    "\n",
    "print(nome, email, senha)"
   ]
  },
  {
   "cell_type": "markdown",
   "id": "408eb5ab",
   "metadata": {},
   "source": [
    "O input geralmente devolve o que você escrever em string(texto) o que pode atrapalhar dependendo da função do seu código, confira abaixo:"
   ]
  },
  {
   "cell_type": "code",
   "execution_count": 21,
   "id": "8cc29c5a",
   "metadata": {},
   "outputs": [
    {
     "name": "stdout",
     "output_type": "stream",
     "text": [
      "13\n"
     ]
    }
   ],
   "source": [
    "#EXEMPLO (soma de dois números)\n",
    "\n",
    "num1 = input(\"Insira o priemeiro número da soma: \") \n",
    "num2 = input(\"Insira o segundo número da soma: \") \n",
    "print(num1 + num2)"
   ]
  },
  {
   "cell_type": "markdown",
   "id": "b12f8878",
   "metadata": {},
   "source": [
    "Porém, existem maneiras de alterar o retorno do input, a mais comum, é tipando ele, ou seja definindo qual tipo de valor ele deve retornar, observe abaixo:"
   ]
  },
  {
   "cell_type": "code",
   "execution_count": 23,
   "id": "26c7731d",
   "metadata": {},
   "outputs": [
    {
     "name": "stdout",
     "output_type": "stream",
     "text": [
      "7.0\n"
     ]
    }
   ],
   "source": [
    "#EXEMPLO (soma de dois números)\n",
    "\n",
    "num1 = float(input(\"Insira o primeiro número da soma: \")) \n",
    "num2 = float(input(\"Insira o primeiro número da soma: \")) \n",
    "print(num1 + num2)"
   ]
  },
  {
   "cell_type": "markdown",
   "id": "278f9f97",
   "metadata": {},
   "source": [
    "Agora é a sua vez, utilizando print e input, faça um código que simule o formulário de um cadastro que peça para o usuario inserir: nome, idade, email e senha"
   ]
  },
  {
   "cell_type": "code",
   "execution_count": null,
   "id": "d1e84616",
   "metadata": {},
   "outputs": [
    {
     "name": "stdout",
     "output_type": "stream",
     "text": [
      "Flavio 20 flavio@gmail.com 12345\n"
     ]
    }
   ],
   "source": [
    "#FAÇA O EXERCÍCIO AQUI\n",
    "\n",
    "nome = input(\"Insira o seu nome\")\n",
    "idade = int(input(\"Insira sua idade\"))\n",
    "email = input(\"Insira o seu email\")\n",
    "senha = int(input(\"Insira sua senha\"))"
   ]
  }
 ],
 "metadata": {
  "kernelspec": {
   "display_name": "Python 3",
   "language": "python",
   "name": "python3"
  },
  "language_info": {
   "codemirror_mode": {
    "name": "ipython",
    "version": 3
   },
   "file_extension": ".py",
   "mimetype": "text/x-python",
   "name": "python",
   "nbconvert_exporter": "python",
   "pygments_lexer": "ipython3",
   "version": "3.13.2"
  }
 },
 "nbformat": 4,
 "nbformat_minor": 5
}
