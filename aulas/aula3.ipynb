{
 "cells": [
  {
   "cell_type": "markdown",
   "id": "4ebb6344",
   "metadata": {},
   "source": [
    "IF E ELSE - HOJE VAMOS FALAR DE ESTRUTURAS DE CONTROLE DE FLUXO"
   ]
  },
  {
   "cell_type": "code",
   "execution_count": null,
   "id": "59b6d822",
   "metadata": {},
   "outputs": [],
   "source": [
    "if # Usado para informar uma condição e ditar o que acontecerá caso essa condição cumpra suas expectativas;\n",
    "else # Caso nenhuma das condições informadas no if seja atendida, o else ditará o que vai acontecer;\n",
    "elif # Usado quando necessário trabalhar com duas ou mais condições, ele faz com que não seja necessário testar todas as condições;"
   ]
  },
  {
   "cell_type": "code",
   "execution_count": 13,
   "id": "f2849732",
   "metadata": {},
   "outputs": [
    {
     "name": "stdout",
     "output_type": "stream",
     "text": [
      "Vamos verificar suas notas!\n"
     ]
    }
   ],
   "source": [
    "#EXEMPLO (USO DE IF) - Passar em uma matéria escolar\n",
    "\n",
    "print(\"Vamos verificar suas notas!\")\n",
    "nota1  = int(input(\"Insira aqui a sua primeira nota nessa matéria\"))\n",
    "nota2  = int(input(\"Insira aqui a sua segunda nota nessa matéria\"))\n",
    "\n",
    "if (nota1 + nota2) / 2 >= 6: #aqui estamos tirando a média das notas e verificando se o resultado é maior ou igual a seis\n",
    "    print(\"Parabéns, você passou nessa matéria\")"
   ]
  },
  {
   "cell_type": "code",
   "execution_count": 14,
   "id": "ce871817",
   "metadata": {},
   "outputs": [
    {
     "name": "stdout",
     "output_type": "stream",
     "text": [
      "Seja bem vindo ao nosso site!\n",
      "Cadastro concluido! seja bem vindo(a) kreski\n"
     ]
    }
   ],
   "source": [
    "#EXEMPLO (USO DE IF E ELSE) - cadastro\n",
    "\n",
    "print(\"Seja bem vindo ao nosso site!\")\n",
    "nome = input(\"Insira seu nome: \")\n",
    "idade = int(input(\"Insira sua idade: \"))\n",
    "\n",
    "if idade < 18:\n",
    "    print(\"Cadastro negado, usuário menor de idade!\")\n",
    "else:\n",
    "    print(\"Cadastro concluido! seja bem vindo(a)\", nome)"
   ]
  },
  {
   "cell_type": "code",
   "execution_count": 17,
   "id": "de707cfb",
   "metadata": {},
   "outputs": [
    {
     "name": "stdout",
     "output_type": "stream",
     "text": [
      "Vamos escolher uma atividade para hoje!\n",
      "\n",
      "Não entendi o clima, escolha entre ensolarado, chuvoso ou frio.\n"
     ]
    }
   ],
   "source": [
    "#EXEMPLO (USO DE IF, ELIF E ELSE) - escolher atividade\n",
    "\n",
    "print(\"Vamos escolher uma atividade para hoje!\\n\")\n",
    "\n",
    "clima = input(\"Como está o clima? (ensolarado, chuvoso ou frio): \").lower() #essa função serve para garantir que o texto digitado, seja transformado em letras\n",
    "#minusculas\n",
    "\n",
    "if clima == \"ensolarado\":\n",
    "    print(\"Ótimo! Vamos passear no parque 🌳\")\n",
    "elif clima == \"chuvoso\":\n",
    "    print(\"Melhor ficar em casa e ver um filme 🎬\")\n",
    "elif clima == \"frio\":\n",
    "    print(\"Uma boa pedida é tomar um chocolate quente ☕\")\n",
    "else:\n",
    "    print(\"Não entendi o clima, escolha entre ensolarado, chuvoso ou frio.\")"
   ]
  },
  {
   "cell_type": "markdown",
   "id": "8db7e5b4",
   "metadata": {},
   "source": [
    "Agora é a sua vez\n",
    "\n",
    "Utilizando IF, ELIF e ELSE, faça um programa que simule uma calculadora que faça os seguintes passos:\n",
    "\n",
    "1- peça ao usuário qual operação matemática ele deseja realizar (adição, subtração, multiplicação ou divisão)\n",
    "\n",
    "2- logo em seguida peça ao usuário para que digite dois números para serem submetidos a operação\n",
    "\n",
    "3- com os dois números informados pelo o usuário, realize a operação escolhida\n",
    "\n",
    "4- por fim, imprima o resultado da operação na tela"
   ]
  },
  {
   "cell_type": "code",
   "execution_count": 22,
   "id": "3cc8c823",
   "metadata": {},
   "outputs": [
    {
     "name": "stdout",
     "output_type": "stream",
     "text": [
      "A operação informada não é válida\n"
     ]
    }
   ],
   "source": [
    "#FAÇA O EXERCÍCIO AQUI\n",
    "\n",
    "operacao = input(\"Qual operação você vai escolher (adição, subtração, multiplicação e divisão)\")\n",
    "numero1 = int(input(\"insira o primeiro número\"))\n",
    "numero2 = int(input(\"Insira o segundo número\"))\n",
    "\n",
    "if operacao == \"adição\":\n",
    "    print(numero1 + numero2)\n",
    "elif operacao == \"subtração\":\n",
    "    print(numero1 - numero2)\n",
    "elif operacao == \"multiplicação\":\n",
    "    print(numero1 * numero2)\n",
    "elif operacao == \"divisão\":\n",
    "    print(numero1 / numero2)\n",
    "else:\n",
    "    print(\"A operação informada não é válida\")"
   ]
  },
  {
   "cell_type": "markdown",
   "id": "c6191df4",
   "metadata": {},
   "source": [
    "WHILE - LAÇO DE REPETIÇÃO SIMPLES"
   ]
  },
  {
   "cell_type": "code",
   "execution_count": null,
   "id": "dd368e6e",
   "metadata": {},
   "outputs": [],
   "source": [
    "while #usamos while quando queremos que algo se repita enquanto uma condição for ou não atendida"
   ]
  },
  {
   "cell_type": "code",
   "execution_count": 1,
   "id": "d8d14e9a",
   "metadata": {},
   "outputs": [
    {
     "name": "stdout",
     "output_type": "stream",
     "text": [
      "Parabéns, você acertou\n"
     ]
    }
   ],
   "source": [
    "#EXEMPLO DE USO DO WHILE - (progressão apenas com resposta correta)\n",
    "num1 = 1\n",
    "num2 = 3\n",
    "\n",
    "soma = int(input(\"Insira aqui o resultado da soma dos dois números acima\"))\n",
    "\n",
    "while soma != num1 + num2:\n",
    "    soma = int(input(\"Resposta errada, insira o resultado novamente\"))\n",
    "if soma == num1 + num2:\n",
    "    print(\"Parabéns, você acertou\")\n",
    "\n"
   ]
  },
  {
   "cell_type": "code",
   "execution_count": null,
   "id": "2934480d",
   "metadata": {},
   "outputs": [],
   "source": [
    "#EXEMPLO DO USO DO WHILE - (contador)\n",
    "\n",
    "contador = 0\n",
    "while contador < 20: # a leitura dessa parte é (enquanto o número da variável contador for menor que dez)\n",
    "    contador = contador + 1  # o número da variável acressetará +1 em seu total\n",
    "    print(contador)"
   ]
  },
  {
   "cell_type": "markdown",
   "id": "681113eb",
   "metadata": {},
   "source": [
    "Agora é a sua vez\n",
    "\n",
    "Faça um programa que use um laço while.\n",
    "\n",
    "1- O contador deve começar em 100.\n",
    "\n",
    "2- Enquanto o contador for maior ou igual a 10, ele deve diminuir.\n",
    "\n",
    "3- Mostre o valor do contador na tela a cada passo."
   ]
  },
  {
   "cell_type": "code",
   "execution_count": 30,
   "id": "a294e51e",
   "metadata": {},
   "outputs": [
    {
     "name": "stdout",
     "output_type": "stream",
     "text": [
      "99\n",
      "98\n",
      "97\n",
      "96\n",
      "95\n",
      "94\n",
      "93\n",
      "92\n",
      "91\n",
      "90\n",
      "89\n",
      "88\n",
      "87\n",
      "86\n",
      "85\n",
      "84\n",
      "83\n",
      "82\n",
      "81\n",
      "80\n",
      "79\n",
      "78\n",
      "77\n",
      "76\n",
      "75\n",
      "74\n",
      "73\n",
      "72\n",
      "71\n",
      "70\n",
      "69\n",
      "68\n",
      "67\n",
      "66\n",
      "65\n",
      "64\n",
      "63\n",
      "62\n",
      "61\n",
      "60\n",
      "59\n",
      "58\n",
      "57\n",
      "56\n",
      "55\n",
      "54\n",
      "53\n",
      "52\n",
      "51\n",
      "50\n",
      "49\n",
      "48\n",
      "47\n",
      "46\n",
      "45\n",
      "44\n",
      "43\n",
      "42\n",
      "41\n",
      "40\n",
      "39\n",
      "38\n",
      "37\n",
      "36\n",
      "35\n",
      "34\n",
      "33\n",
      "32\n",
      "31\n",
      "30\n",
      "29\n",
      "28\n",
      "27\n",
      "26\n",
      "25\n",
      "24\n",
      "23\n",
      "22\n",
      "21\n",
      "20\n",
      "19\n",
      "18\n",
      "17\n",
      "16\n",
      "15\n",
      "14\n",
      "13\n",
      "12\n",
      "11\n",
      "10\n",
      "9\n"
     ]
    }
   ],
   "source": [
    "#FAÇA O EXERCÍCIO AQUI\n",
    "\n",
    "contador = 100\n",
    "while contador >= 10:\n",
    "    contador = contador -1\n",
    "    print(contador)"
   ]
  }
 ],
 "metadata": {
  "kernelspec": {
   "display_name": "Python 3",
   "language": "python",
   "name": "python3"
  },
  "language_info": {
   "codemirror_mode": {
    "name": "ipython",
    "version": 3
   },
   "file_extension": ".py",
   "mimetype": "text/x-python",
   "name": "python",
   "nbconvert_exporter": "python",
   "pygments_lexer": "ipython3",
   "version": "3.12.3"
  }
 },
 "nbformat": 4,
 "nbformat_minor": 5
}
