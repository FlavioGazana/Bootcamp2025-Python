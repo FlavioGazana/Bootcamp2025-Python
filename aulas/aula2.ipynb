{
 "cells": [
  {
   "cell_type": "markdown",
   "id": "cfc9a29d",
   "metadata": {},
   "source": [
    "OPERADORES MATEMÁTICOS: ALGUNS IGUAIS, A MAIORIA DIFERENTE"
   ]
  },
  {
   "cell_type": "code",
   "execution_count": 25,
   "id": "45cd94ce",
   "metadata": {},
   "outputs": [
    {
     "name": "stdout",
     "output_type": "stream",
     "text": [
      "4\n"
     ]
    }
   ],
   "source": [
    "#SOMA(+) (igual ao da matemática)\n",
    "\n",
    "primeiroValor = 1\n",
    "segundoValor = 3\n",
    "\n",
    "\n",
    "print(primeiroValor + segundoValor)"
   ]
  },
  {
   "cell_type": "code",
   "execution_count": 26,
   "id": "69a6eac7",
   "metadata": {},
   "outputs": [
    {
     "name": "stdout",
     "output_type": "stream",
     "text": [
      "11\n"
     ]
    }
   ],
   "source": [
    "#SOMA EXEMPLO 2 (TAMBÉM É POSSÍVEL FAZER DESSE JEITO)\n",
    "\n",
    "valor1 = 1\n",
    "valor2 = 10\n",
    "\n",
    "soma = valor1 + valor2\n",
    "print(soma)"
   ]
  },
  {
   "cell_type": "code",
   "execution_count": 3,
   "id": "c502d070",
   "metadata": {},
   "outputs": [
    {
     "name": "stdout",
     "output_type": "stream",
     "text": [
      "1\n"
     ]
    }
   ],
   "source": [
    "#SUBTRAÇÃO(-) (igual ao da matemática)\n",
    "\n",
    "primeiroValor = 2\n",
    "segundoValor = 1\n",
    "\n",
    "print(primeiroValor - segundoValor)"
   ]
  },
  {
   "cell_type": "code",
   "execution_count": 27,
   "id": "17acbe18",
   "metadata": {},
   "outputs": [
    {
     "name": "stdout",
     "output_type": "stream",
     "text": [
      "9\n"
     ]
    }
   ],
   "source": [
    "#MULTIPLICAÇÃO(*) (diferente da matemática)\n",
    "\n",
    "primeiroValor = 3\n",
    "segundoValor = 3\n",
    "\n",
    "print(primeiroValor * segundoValor)"
   ]
  },
  {
   "cell_type": "code",
   "execution_count": 28,
   "id": "f8355276",
   "metadata": {},
   "outputs": [
    {
     "name": "stdout",
     "output_type": "stream",
     "text": [
      "3.3333333333333335\n"
     ]
    }
   ],
   "source": [
    "#DIVISÃO(/) (diferente da matemática)\n",
    "\n",
    "primeiroValor = 10\n",
    "segundoValor = 3\n",
    "\n",
    "print(primeiroValor / segundoValor)"
   ]
  },
  {
   "cell_type": "code",
   "execution_count": 29,
   "id": "96c01ee0",
   "metadata": {},
   "outputs": [
    {
     "name": "stdout",
     "output_type": "stream",
     "text": [
      "3\n"
     ]
    }
   ],
   "source": [
    "#DIVISÃO INTEIRA(//) (diferente)\n",
    "\n",
    "primeiroValor = 10\n",
    "segundoValor = 3\n",
    "\n",
    "print(primeiroValor // segundoValor)\n"
   ]
  },
  {
   "cell_type": "code",
   "execution_count": null,
   "id": "28c69870",
   "metadata": {},
   "outputs": [
    {
     "name": "stdout",
     "output_type": "stream",
     "text": [
      "1\n"
     ]
    }
   ],
   "source": [
    "#MÓDULO(%) (É A MESMA COISA QUE RESTO DE UMA DIVISÃO)\n",
    "# Caio me paga :(\n",
    "primeiroValor = 10\n",
    "segundoValor = 3\n",
    "\n",
    "print(primeiroValor % segundoValor)"
   ]
  },
  {
   "cell_type": "code",
   "execution_count": 31,
   "id": "b0e3d831",
   "metadata": {},
   "outputs": [
    {
     "name": "stdout",
     "output_type": "stream",
     "text": [
      "9\n"
     ]
    }
   ],
   "source": [
    "#POTENCIAÇÃO(**) (diferente)\n",
    "\n",
    "primeiroValor = 3 #equivale ao número potenciado \n",
    "segundoValor = 2 #equivale a potência\n",
    "\n",
    "print(primeiroValor ** segundoValor)"
   ]
  },
  {
   "cell_type": "markdown",
   "id": "504a211e",
   "metadata": {},
   "source": [
    "Agora é com você !!!\n",
    "\n",
    "Utilizando input, print e os operadores matemáticos, faça um código que calcule a média entre três notas de um aluno"
   ]
  },
  {
   "cell_type": "code",
   "execution_count": 32,
   "id": "600c443c",
   "metadata": {},
   "outputs": [
    {
     "name": "stdout",
     "output_type": "stream",
     "text": [
      "6.0\n"
     ]
    }
   ],
   "source": [
    "#FAÇA O EXERCÍCIO AQUI\n",
    "num1 = int(input(\"Insira um número\"))\n",
    "num2 = int(input(\"Insira um número\"))\n",
    "num3 = int(input(\"Insira um número\"))\n",
    "\n",
    "media = (num1 + num2 + num3) / 3\n",
    "\n",
    "print(media)\n"
   ]
  },
  {
   "cell_type": "markdown",
   "id": "62b66017",
   "metadata": {},
   "source": [
    "TAMBÉM DA MATEMÁTICA PODEMOS UTILIZAR OS SÍMBOLOS DE MAIOR (>) E MENOR (<) PARA COMPARAR DOIS NÚMEROS, VARIÁVEIS E RESULTADOS. QUANDO A COMPARAÇÃO É FEITA, É COMUM O RETORNO DE VALORES BOOLEAN COMO TRUE OU FALSE"
   ]
  },
  {
   "cell_type": "code",
   "execution_count": null,
   "id": "5daa592f",
   "metadata": {},
   "outputs": [
    {
     "name": "stdout",
     "output_type": "stream",
     "text": [
      "dois é menor do que cinco? True\n",
      "o primeiro valor é menor do que o segundo valor? False\n"
     ]
    }
   ],
   "source": [
    "#EXEMPLO DE COMPARAÇÃO ENTRE NÚMEROS\n",
    "\n",
    "comparacao = 2 < 5\n",
    "print(\"dois é menor do que cinco?\", comparacao)\n",
    "\n",
    "# também é possível comparar variáveis cujo os valores sejam numéricos\n",
    "\n",
    "valor1 = 10\n",
    "valor2 = 20\n",
    "\n",
    "print(\"o primeiro valor é maior do que o segundo valor?\", valor1 > valor2)"
   ]
  },
  {
   "cell_type": "code",
   "execution_count": 16,
   "id": "37f06767",
   "metadata": {},
   "outputs": [
    {
     "name": "stdout",
     "output_type": "stream",
     "text": [
      "False True\n"
     ]
    }
   ],
   "source": [
    "#OUTROS EXEMPLOS DE MAIOR E MENOR\n",
    "\n",
    "comparacao = 2 >= 3 # MAIOR OU IGUAL (>=)\n",
    "\n",
    "comparacao2 = 3 <= 3 # MENOR OU IGUAL (<=)\n",
    "\n",
    "print(comparacao, comparacao2)\n"
   ]
  },
  {
   "cell_type": "code",
   "execution_count": 18,
   "id": "276ff9ed",
   "metadata": {},
   "outputs": [
    {
     "name": "stdout",
     "output_type": "stream",
     "text": [
      "True\n",
      "True\n"
     ]
    }
   ],
   "source": [
    "#OUTROS SÍMBOLOS DE COMPARAÇÃO\n",
    "\n",
    "comparacao = 2 == 2 # IGUALDADE (==)\n",
    "print(comparacao)\n",
    "\n",
    "comparacao2 = 2 != 100 # DIFERENÇA (!=)\n",
    "print(comparacao2)"
   ]
  },
  {
   "cell_type": "markdown",
   "id": "48a19f71",
   "metadata": {},
   "source": [
    "AND E OR - são métodos de comparação entre dois ou mais valores"
   ]
  },
  {
   "cell_type": "code",
   "execution_count": 35,
   "id": "77793d23",
   "metadata": {},
   "outputs": [
    {
     "name": "stdout",
     "output_type": "stream",
     "text": [
      "True\n",
      "False\n"
     ]
    }
   ],
   "source": [
    "#USAMOS O \"AND\" QUANDO TEMOS DUAS OU MAIS CONDIÇÕES E QUEREMOS QUE AMBAS SEJAM ATINGIDAS\n",
    "\n",
    "condicao = 2 > 1 and 2 < 4 \n",
    "\n",
    "print(condicao) \n",
    "\n",
    "condicao2 = 2 > 1 and 2 > 4 \n",
    "\n",
    "print(condicao2) "
   ]
  },
  {
   "cell_type": "code",
   "execution_count": 36,
   "id": "d3b1161e",
   "metadata": {},
   "outputs": [
    {
     "name": "stdout",
     "output_type": "stream",
     "text": [
      "True\n",
      "False\n"
     ]
    }
   ],
   "source": [
    "#USAMOS O \"OR\" QUANDO TEMOS DUAS OU MAIS CONDIÇÕES E QUEREMOS QUE PELO MENOS UMA DELAS SEJA ATINGIDA\n",
    "\n",
    "condicao = 2 > 1 or 2 > 4\n",
    "print(condicao) \n",
    "\n",
    "condicao2 = 2 < 1 or 2 > 4\n",
    "print(condicao2) "
   ]
  },
  {
   "cell_type": "markdown",
   "id": "c306e8e1",
   "metadata": {},
   "source": [
    "Agora é com você!!!\n",
    "\n",
    "Crie um programa que peça ao usuário dois números, verifique se os dois números são maiores do que 10 e imprima a resposta "
   ]
  },
  {
   "cell_type": "code",
   "execution_count": 37,
   "id": "80bb1bcb",
   "metadata": {},
   "outputs": [
    {
     "name": "stdout",
     "output_type": "stream",
     "text": [
      "False True\n"
     ]
    }
   ],
   "source": [
    "#FAÇA O EXERCÍCIO AQUI\n",
    "\n",
    "num1 = int(input(\"Insira o primeiro número\"))\n",
    "num2 = int(input(\"Insira o segundo número\"))\n",
    "\n",
    "print(num1 > 10, num2 > 10)"
   ]
  }
 ],
 "metadata": {
  "kernelspec": {
   "display_name": "Python 3",
   "language": "python",
   "name": "python3"
  },
  "language_info": {
   "codemirror_mode": {
    "name": "ipython",
    "version": 3
   },
   "file_extension": ".py",
   "mimetype": "text/x-python",
   "name": "python",
   "nbconvert_exporter": "python",
   "pygments_lexer": "ipython3",
   "version": "3.13.2"
  }
 },
 "nbformat": 4,
 "nbformat_minor": 5
}
