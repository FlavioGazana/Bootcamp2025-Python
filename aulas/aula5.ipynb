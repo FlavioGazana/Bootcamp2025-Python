{
 "cells": [
  {
   "cell_type": "markdown",
   "id": "571fda3e",
   "metadata": {},
   "source": [
    "FUNÇÃO - MENOS TRABALHO, MAIS ORGANIZAÇÃO"
   ]
  },
  {
   "cell_type": "code",
   "execution_count": 36,
   "id": "70d097a7",
   "metadata": {},
   "outputs": [
    {
     "data": {
      "text/plain": [
       "'tenha uma boa noite Martin'"
      ]
     },
     "execution_count": 36,
     "metadata": {},
     "output_type": "execute_result"
    }
   ],
   "source": [
    "# A função serve justamente para que possamos reunir um bloco de código inteiro e reservar-lo para apenas uma palavra\n",
    "# Facilitando assim o entendimento e diminuindo o trabalho já que não teremos que escrever tudo de novo\n",
    "# facilita a reutilização de código (veremos quando chegarmos em tkinter)\n",
    "# como usar: def nome_da_função(parâmentros):  #def é a palavra reservada\n",
    "# parâmetros: são as variáveis necessárias para que a função seja executável\n",
    "# return: é o retorno feito depois que todo o código dentro da função foi executado\n",
    "\n",
    "def boa_noite(nome, horario): \n",
    "    frase = f\"tenha uma boa {horario} {nome}\"\n",
    "    return frase\n",
    "\n",
    "boa_noite(\"Martin\", \"noite\") # para chamarmos uma função basta apenas digitar o nome dela abrir um parênteses e colocar os parâmetros (quando necessário)\n"
   ]
  },
  {
   "cell_type": "code",
   "execution_count": 40,
   "id": "fb9720ec",
   "metadata": {},
   "outputs": [
    {
     "name": "stdout",
     "output_type": "stream",
     "text": [
      "Procurando...\n",
      "achei o carregador, está no indice 1\n",
      "Procurando...\n",
      "Procurando...\n",
      "achei o 84282, está no indice 2\n"
     ]
    }
   ],
   "source": [
    "def AcharElemento(lista, objeto_a_ser_achado):\n",
    "    \n",
    "    contador = 0\n",
    "\n",
    "    for objeto in lista:\n",
    "        if objeto != objeto_a_ser_achado: #aqui para cade elemento da minha lista eu testarei a condição mencionada em if\n",
    "            print(\"Procurando...\") #se a condição for verdadeira o código do bloco if será executado\n",
    "            contador += 1\n",
    "\n",
    "        else:\n",
    "            print(f\"achei o {objeto_a_ser_achado}, está no indice {contador}\") #caso contrário o código do bloco else será executado\n",
    "            break\n",
    "\n",
    "AcharElemento([\"caneta\", \"carregador\", \"celular\"], \"carregador\")\n",
    "AcharElemento([1, 10, 84282], 84282)\n",
    "\n",
    "\n"
   ]
  },
  {
   "cell_type": "code",
   "execution_count": null,
   "id": "7be14a61",
   "metadata": {},
   "outputs": [],
   "source": []
  },
  {
   "cell_type": "code",
   "execution_count": 43,
   "id": "23208863",
   "metadata": {},
   "outputs": [
    {
     "name": "stdout",
     "output_type": "stream",
     "text": [
      "58\n"
     ]
    }
   ],
   "source": [
    "#PORQUE UTILIZAR O RETURN - um dos casos\n",
    "\n",
    "# def soma(valor1, valor2):\n",
    "#     print(valor1 + valor2)\n",
    "\n",
    "# soma_da_soma = soma(1, 1) + 1\n",
    "\n",
    "\n",
    "# agora com return (descomentar)\n",
    "\n",
    "def soma2(valor1, valor2):\n",
    "    return valor1 + valor2\n",
    "\n",
    "soma_da_soma2 = soma2(6, 29) + 23\n",
    "print(soma_da_soma2)\n"
   ]
  },
  {
   "cell_type": "code",
   "execution_count": 44,
   "id": "96e505f2",
   "metadata": {},
   "outputs": [
    {
     "name": "stdout",
     "output_type": "stream",
     "text": [
      "Você está desenvolvendo em python\n"
     ]
    }
   ],
   "source": [
    "#EXEMPLO DE FUNÇÃO SEM PARÂMENTRO - geralmente usado com blocos de código mais simples e que sempre farão a mesma coisa\n",
    "\n",
    "def programando(): #aqui a função não tem nenhum parâmetro\n",
    "    print(\"Você está desenvolvendo em python\")\n",
    "\n",
    "programando()\n"
   ]
  },
  {
   "cell_type": "code",
   "execution_count": null,
   "id": "63acb24d",
   "metadata": {},
   "outputs": [
    {
     "name": "stdout",
     "output_type": "stream",
     "text": [
      "você está no peso recomendado para a sua altura\n"
     ]
    },
    {
     "data": {
      "text/plain": [
       "20.199469763918696"
      ]
     },
     "execution_count": 46,
     "metadata": {},
     "output_type": "execute_result"
    }
   ],
   "source": [
    "#EXEMPLO DE FUNÇÃO COM DOIS PARÂMETROS - cálculo de imc\n",
    "\n",
    "def calcular_imc(peso, altura):\n",
    "    calculo = peso / (altura ** 2)\n",
    "    # if calculo < 18.5:\n",
    "    #     print(\"você está abaixo do peso recomendado para a sua altura\")\n",
    "    # elif calculo >= 18.5 and calculo < 25:\n",
    "    #     print(\"você está no peso recomendado para a sua altura\")\n",
    "    # elif calculo >= 25 and calculo < 30:\n",
    "    #     print(\"você está um pouco acima do peso recomendado para a sua altura\")\n",
    "    # elif calculo >= 30 and calculo < 40:\n",
    "    #     print(\"você está consideravelmente acima do peso recomendado para a sua altura\")\n",
    "    # else:\n",
    "    #     print(\"procure ajuda, você está extremamente acima do peso recomendado para a a sua altura\")\n",
    "    return calculo\n",
    "\n",
    "\n",
    "calcular_imc(64, 1.78)\n"
   ]
  },
  {
   "cell_type": "markdown",
   "id": "df70e0bb",
   "metadata": {},
   "source": [
    "Agora é a sua vez\n",
    "\n",
    "faça uma função de venda que:\n",
    "\n",
    "1- tenha os parâmetros (vendedor, cliente e dia)\n",
    "\n",
    "2- peça ao usuário o nome e o preço do produto adquirido\n",
    "\n",
    "3- crie uma variável de nota fiscal que mostre todas a informações da venda\n",
    "\n",
    "4- retorne a nota fiscal ao final do bloco de código\n"
   ]
  },
  {
   "cell_type": "code",
   "execution_count": 2,
   "id": "7fd5b2f8",
   "metadata": {},
   "outputs": [
    {
     "ename": "ValueError",
     "evalue": "could not convert string to float: ''",
     "output_type": "error",
     "traceback": [
      "\u001b[31m---------------------------------------------------------------------------\u001b[39m",
      "\u001b[31mValueError\u001b[39m                                Traceback (most recent call last)",
      "\u001b[36mCell\u001b[39m\u001b[36m \u001b[39m\u001b[32mIn[2]\u001b[39m\u001b[32m, line 13\u001b[39m\n\u001b[32m     10\u001b[39m     nf = \u001b[33mf\u001b[39m\u001b[33m\"\u001b[39m\u001b[33mDados da compra:\u001b[39m\u001b[38;5;130;01m\\n\u001b[39;00m\u001b[33mVendedor: \u001b[39m\u001b[38;5;132;01m{\u001b[39;00mvendedor\u001b[38;5;132;01m}\u001b[39;00m\u001b[38;5;130;01m\\n\u001b[39;00m\u001b[33mDia da semana: \u001b[39m\u001b[38;5;132;01m{\u001b[39;00mdia\u001b[38;5;132;01m}\u001b[39;00m\u001b[38;5;130;01m\\n\u001b[39;00m\u001b[33mCliente: \u001b[39m\u001b[38;5;132;01m{\u001b[39;00mcliente\u001b[38;5;132;01m}\u001b[39;00m\u001b[38;5;130;01m\\n\u001b[39;00m\u001b[33mProduto: \u001b[39m\u001b[38;5;132;01m{\u001b[39;00mnome_produto\u001b[38;5;132;01m}\u001b[39;00m\u001b[38;5;130;01m\\n\u001b[39;00m\u001b[33mPreco: \u001b[39m\u001b[38;5;132;01m{\u001b[39;00mvalor_produto\u001b[38;5;132;01m}\u001b[39;00m\u001b[38;5;130;01m\\n\u001b[39;00m\u001b[33m\"\u001b[39m\n\u001b[32m     11\u001b[39m     \u001b[38;5;28;01mreturn\u001b[39;00m  nf\n\u001b[32m---> \u001b[39m\u001b[32m13\u001b[39m \u001b[43mvenda\u001b[49m\u001b[43m(\u001b[49m\u001b[33;43m\"\u001b[39;49m\u001b[33;43mFlavio\u001b[39;49m\u001b[33;43m\"\u001b[39;49m\u001b[43m,\u001b[49m\u001b[43m \u001b[49m\u001b[33;43m\"\u001b[39;49m\u001b[33;43mKreski\u001b[39;49m\u001b[33;43m\"\u001b[39;49m\u001b[43m,\u001b[49m\u001b[43m \u001b[49m\u001b[33;43m\"\u001b[39;49m\u001b[33;43m28 de agosto de 2025\u001b[39;49m\u001b[33;43m\"\u001b[39;49m\u001b[43m)\u001b[49m\n",
      "\u001b[36mCell\u001b[39m\u001b[36m \u001b[39m\u001b[32mIn[2]\u001b[39m\u001b[32m, line 5\u001b[39m, in \u001b[36mvenda\u001b[39m\u001b[34m(vendedor, cliente, dia)\u001b[39m\n\u001b[32m      3\u001b[39m \u001b[38;5;28;01mdef\u001b[39;00m\u001b[38;5;250m \u001b[39m\u001b[34mvenda\u001b[39m(vendedor,cliente,dia):\n\u001b[32m      4\u001b[39m     nome_produto = \u001b[38;5;28minput\u001b[39m(\u001b[33m\"\u001b[39m\u001b[33mInsira o nome do produto: \u001b[39m\u001b[33m\"\u001b[39m)\n\u001b[32m----> \u001b[39m\u001b[32m5\u001b[39m     valor_produto = \u001b[38;5;28;43mfloat\u001b[39;49m\u001b[43m(\u001b[49m\u001b[38;5;28;43minput\u001b[39;49m\u001b[43m(\u001b[49m\u001b[33;43m\"\u001b[39;49m\u001b[33;43mInsira o valor do produto: \u001b[39;49m\u001b[33;43m\"\u001b[39;49m\u001b[43m)\u001b[49m\u001b[43m)\u001b[49m\n\u001b[32m      6\u001b[39m     \u001b[38;5;28;01mif\u001b[39;00m nome_produto == \u001b[33m\"\u001b[39m\u001b[33m\"\u001b[39m \u001b[38;5;129;01mand\u001b[39;00m valor_produto == \u001b[33m\"\u001b[39m\u001b[33m\"\u001b[39m:\n\u001b[32m      7\u001b[39m         \u001b[38;5;28mprint\u001b[39m(\u001b[33m\"\u001b[39m\u001b[33mtanto o campo do produto, quanto o campo do valor estão vazios\u001b[39m\u001b[33m\"\u001b[39m)\n",
      "\u001b[31mValueError\u001b[39m: could not convert string to float: ''"
     ]
    }
   ],
   "source": [
    "#FAÇA O EXERCÍCIO AQUI\n",
    "\n",
    "def venda(vendedor,cliente,dia):\n",
    "    nome_produto = input(\"Insira o nome do produto: \")\n",
    "    valor_produto = float(input(\"Insira o valor do produto: \"))\n",
    "    if nome_produto == \"\" and valor_produto == \"\":\n",
    "        print(\"tanto o campo do produto, quanto o campo do valor estão vazios\")\n",
    "    elif nome_produto == \"\" or valor_produto == \"\":\n",
    "        print(\"um dos campos está vazio\")\n",
    "    nf = f\"Dados da compra:\\nVendedor: {vendedor}\\nDia da semana: {dia}\\nCliente: {cliente}\\nProduto: {nome_produto}\\nPreco: {valor_produto}\\n\"\n",
    "    return  nf\n",
    "\n",
    "venda(\"Flavio\", \"Kreski\", \"28 de agosto de 2025\")\n",
    "\n",
    "\n",
    "\n",
    "\n"
   ]
  },
  {
   "cell_type": "code",
   "execution_count": 29,
   "id": "7be8e28a",
   "metadata": {},
   "outputs": [
    {
     "name": "stdout",
     "output_type": "stream",
     "text": [
      "oi\n",
      "tchau\n"
     ]
    }
   ],
   "source": [
    "print(\"oi\\ntchau\")"
   ]
  },
  {
   "cell_type": "markdown",
   "id": "7fd1644a",
   "metadata": {},
   "source": [
    "ALGUMAS OUTRAS POSSIBILIDADES"
   ]
  },
  {
   "cell_type": "code",
   "execution_count": 3,
   "id": "c1b5598d",
   "metadata": {},
   "outputs": [
    {
     "name": "stdout",
     "output_type": "stream",
     "text": [
      "Conta criada com sucesso Claudio, seu saldo é de 100R$\n",
      "Conta criada com sucesso ana, seu saldo é de 0R$\n"
     ]
    }
   ],
   "source": [
    "#VALOR PADRÃO PARA UM PARÂMETRO\n",
    "\n",
    "def conta_bancaria(saldo=0): #ao definir um valor padrão, ao chamar a função e não inserir os parâmetros indicados, o valor padrão será usado automáticamente\n",
    "    nome_cliente = input(\"Insira o seu nome\")\n",
    "    print(f\"Conta criada com sucesso {nome_cliente}, seu saldo é de {saldo}R$\")\n",
    "\n",
    "conta_bancaria(100)\n",
    "conta_bancaria()"
   ]
  },
  {
   "cell_type": "code",
   "execution_count": 5,
   "id": "eb8ceebe",
   "metadata": {},
   "outputs": [
    {
     "data": {
      "text/plain": [
       "6"
      ]
     },
     "execution_count": 5,
     "metadata": {},
     "output_type": "execute_result"
    }
   ],
   "source": [
    "#TIPAGEM DE PARÂMETRO E RETORNO\n",
    "\n",
    "#assim como vimos no input, podemos tipar tanto os parâmentros de uma função quanto o seu retorno\n",
    "\n",
    "def soma(valor:int, valor2:int) -> int:\n",
    "    return valor + valor2\n",
    "\n",
    "soma(1,5)"
   ]
  },
  {
   "cell_type": "code",
   "execution_count": 6,
   "id": "117c3ecc",
   "metadata": {},
   "outputs": [
    {
     "data": {
      "text/plain": [
       "30"
      ]
     },
     "execution_count": 6,
     "metadata": {},
     "output_type": "execute_result"
    }
   ],
   "source": [
    "#FUNÇÃO COMO PARÂMETRO DE OUTRA FUNÇÃO\n",
    "\n",
    "def aplicar_função(funcao, valor):\n",
    "    return funcao(valor)\n",
    "\n",
    "def triplicar(numero):\n",
    "    return numero * 3\n",
    "\n",
    "aplicar_função(triplicar, 10)"
   ]
  }
 ],
 "metadata": {
  "kernelspec": {
   "display_name": "Python 3",
   "language": "python",
   "name": "python3"
  },
  "language_info": {
   "codemirror_mode": {
    "name": "ipython",
    "version": 3
   },
   "file_extension": ".py",
   "mimetype": "text/x-python",
   "name": "python",
   "nbconvert_exporter": "python",
   "pygments_lexer": "ipython3",
   "version": "3.12.3"
  }
 },
 "nbformat": 4,
 "nbformat_minor": 5
}
