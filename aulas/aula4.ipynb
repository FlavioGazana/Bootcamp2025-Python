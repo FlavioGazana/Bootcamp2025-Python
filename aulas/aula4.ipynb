{
 "cells": [
  {
   "cell_type": "markdown",
   "id": "ed4503fa",
   "metadata": {},
   "source": [
    "ARRAYS - VAMOS FALAR SOBRE LISTAS"
   ]
  },
  {
   "cell_type": "code",
   "execution_count": null,
   "id": "c5e0c1b8",
   "metadata": {},
   "outputs": [],
   "source": [
    "#a lista é representada por colchetes \"[]\" e como o nome indica, representa uma lista de elementos presentes dentro do python\n",
    "\n",
    "lista_str = [\"texto1\", \"texto2\", \"texto3\"] #aqui temos uma lista composta apenas por valores do tipo string\n",
    "\n",
    "lista_numeros = [1, 2, 3] #aqui temos uma lista composta apenas por valores do tipo int\n",
    "\n",
    "lista_mista = [\"texto4\", 4, True] #porém, as lista são versáteis e suportam qualquer tipo de valor entre os elementos"
   ]
  },
  {
   "cell_type": "markdown",
   "id": "dcd516e2",
   "metadata": {},
   "source": [
    "AGORA QUE VIMOS COMO AS LISTAS SÃO REPRESENTADAS, PRECISAMOS ENTENDER O CONCEITO DE INDICE"
   ]
  },
  {
   "cell_type": "code",
   "execution_count": 8,
   "id": "edddd237",
   "metadata": {},
   "outputs": [
    {
     "name": "stdout",
     "output_type": "stream",
     "text": [
      "99\n",
      "99 20 30\n",
      "[99, 20, 30, 10, 205, 16]\n"
     ]
    }
   ],
   "source": [
    "#o indice se refere a posição que cada elemento se encontra dentro de uma lista\n",
    "#é importante se atentar que a contagem de indice sempre começa do 0\n",
    "\n",
    "lista_numerica = [99, 20, 30, 10, 205, 16]\n",
    "\n",
    "primeira_posicao = lista_numerica[0] #usamos o indice dessa forma, para se situar de qual elemento da lista estamos nos referindo\n",
    "print(primeira_posicao) #como a contagem de indice sempre começa do zero, para imprimir o primeiro elemento de qualquer lista, utilizaremos o zero\n",
    "\n",
    "print(lista_numerica[0], lista_numerica[1], lista_numerica[2]) #nessa lógica, quando avançamos a casa do indice, avançamos também a casa do elemento\n",
    "\n",
    "print(lista_numerica)"
   ]
  },
  {
   "cell_type": "code",
   "execution_count": null,
   "id": "ea19fb73",
   "metadata": {},
   "outputs": [
    {
     "name": "stdout",
     "output_type": "stream",
     "text": [
      "12\n"
     ]
    }
   ],
   "source": [
    "#DICA PARA SE REFERIR AO ÚLTIMO ELEMENTO DE UMA LISTA\n",
    "\n",
    "#tenho uma lista e quero saber qual é o índice do último elemento sem ter que contar as casas\n",
    "\n",
    "lista = [1, 2, 3, 4, 5, 6, 156, 6, 6, 10, 29, 10, 13, 43, 31, 123, 195, 12]\n",
    "\n",
    "ultima_posicao = lista[-1] #quando quisermos representar o último elemento de uma lista, independente do seu tamanho, basta utilizar o índice -1\n",
    "print(ultima_posicao)"
   ]
  },
  {
   "cell_type": "markdown",
   "id": "778eb393",
   "metadata": {},
   "source": [
    "AGORA VEREMOS AS PRINCIPAIS FUNÇÕES DE UMA LISTA"
   ]
  },
  {
   "cell_type": "code",
   "execution_count": null,
   "id": "f04fd14f",
   "metadata": {},
   "outputs": [
    {
     "name": "stdout",
     "output_type": "stream",
     "text": [
      "['maçã', 'abacaxi', 'mamão']\n",
      "['maçã', 'abacaxi', 'mamão', 'banana', 'maracuja']\n",
      "['maçã', 'abacaxi', 'banana', 'maracuja']\n",
      "4\n",
      "8\n",
      "[10, 2.5, 4, 2.5, 4, 4, 7.5, 10, 4, 4, 4, 4, 4]\n",
      "[2.5, 2.5, 4, 4, 4, 4, 4, 4, 4, 4, 7.5, 10, 10]\n",
      "['abacaxi', 'banana', 'maracuja']\n"
     ]
    }
   ],
   "source": [
    "lista_de_frutas = [\"maçã\", \"abacaxi\", \"mamão\"]\n",
    "print(lista_de_frutas)\n",
    "\n",
    "lista_de_frutas.append(\"banana\")\n",
    "lista_de_frutas.append(\"maracuja\") #quando quisermos adicionar um elemento a lista, basta utilizar \".append\"\n",
    "print(lista_de_frutas)\n",
    "\n",
    "lista_de_frutas.remove(\"mamão\") #quando quisermos remover um elemento da lista, basta utilizar \".remove\"\n",
    "print(lista_de_frutas)\n",
    "\n",
    "numero_de_elementos = len(lista_de_frutas) #caso queira contar o número de elementos de uma lista, basta utilizar \"len(lista)\"\n",
    "print(numero_de_elementos)\n",
    "\n",
    "\n",
    "lista_de_notas = [10, 2.5, 4, 2.5, 4, 4, 7.5, 10, 4, 4, 4, 4, 4]\n",
    "quantidade_do_mesmo_elemento = lista_de_notas.count(4) #caso queira contar, quantas vezes um elemento aparece dentro de uma lista, basta utilizar o \".count\"\n",
    "print(quantidade_do_mesmo_elemento)\n",
    "\n",
    "print(lista_de_notas)\n",
    "\n",
    "lista_de_notas.sort()\n",
    "lista_de_frutas.sort()\n",
    "lista_de_frutas.pop(-1)\n",
    "\n",
    "print(lista_de_notas)\n",
    "print(lista_de_frutas) #caso queira organizar uma lista em ordem crescente ou alfabética, basta utilizar \".sort()\""
   ]
  },
  {
   "cell_type": "code",
   "execution_count": null,
   "id": "a5c53fde",
   "metadata": {},
   "outputs": [],
   "source": []
  },
  {
   "cell_type": "markdown",
   "id": "6f4ecebc",
   "metadata": {},
   "source": [
    "Agora é a sua vez\n",
    "\n",
    "faça um código que:\n",
    "\n",
    "1- crie uma lista vazia\n",
    "\n",
    "2- adicione 5 elementos a essa mesma lista\n",
    "\n",
    "3- remova o penúltimo elemento\n",
    "\n",
    "4- imprima, o primeiro e o último elemento seguido da lista completa"
   ]
  },
  {
   "cell_type": "code",
   "execution_count": 23,
   "id": "4590bc8e",
   "metadata": {},
   "outputs": [
    {
     "name": "stdout",
     "output_type": "stream",
     "text": [
      "[1, 2, 3, 4, 5]\n"
     ]
    }
   ],
   "source": [
    "#FAÇA O EXERCÍCIO AQUI\n",
    "\n",
    "# lista = []\n",
    "# lista.append(1)\n",
    "# lista.append(2)\n",
    "# lista.append(3)\n",
    "# lista.append(4)\n",
    "# lista.append(5)\n",
    "\n",
    "# lista.remove(4)\n",
    "\n",
    "\n",
    "# print(lista)\n",
    "# print(lista[0])\n",
    "# print(lista[3])\n",
    "\n",
    "lista = []\n",
    "lista2 = [1, 2, 3 ,4, 5]\n",
    "lista.extend(lista2)\n",
    "print(lista)"
   ]
  },
  {
   "cell_type": "markdown",
   "id": "31d74e0f",
   "metadata": {},
   "source": [
    "FOR - LAÇO DE REPETIÇÃO PARA O CONTROLE DE LISTAS"
   ]
  },
  {
   "cell_type": "code",
   "execution_count": null,
   "id": "a040c01a",
   "metadata": {},
   "outputs": [],
   "source": [
    "for elemento in lista #usamos for quando queremos interagir sobre um ou mais elementos de uma lista ao mesmo tempo\n",
    "#a leitura dessa estrutura é a seguinte: para cada elemento dentro da lista que eu informar."
   ]
  },
  {
   "cell_type": "code",
   "execution_count": 16,
   "id": "89120802",
   "metadata": {},
   "outputs": [
    {
     "name": "stdout",
     "output_type": "stream",
     "text": [
      "arroz\n",
      "feijão\n",
      "batata\n",
      "macarrão\n",
      "louro\n"
     ]
    }
   ],
   "source": [
    "#EXEMPLO FOR - imprimir todos os elementos de uma lista\n",
    "\n",
    "lista = [\"arroz\", \"feijão\", \"batata\", \"macarrão\", \"louro\"]\n",
    "\n",
    "for elemento in lista: #o for passa por todos os índices da lista e só para de executar quando chegar ao índice -1 (ultimo elemento)\n",
    "    print(elemento)"
   ]
  },
  {
   "cell_type": "code",
   "execution_count": 19,
   "id": "b1bd412f",
   "metadata": {},
   "outputs": [
    {
     "name": "stdout",
     "output_type": "stream",
     "text": [
      "Procurando...\n",
      "Procurando...\n",
      "Procurando...\n",
      "Procurando...\n",
      "achei, ele estava no bolso 5\n"
     ]
    }
   ],
   "source": [
    "#EXEMPLO FOR COMBINADO COM IF - encontrar elemento em uma lista\n",
    "\n",
    "mochila = [\"caderno\", \"lápis\", \"caneta\", \"carregador\", \"desodorante\", \"bolacha\"]\n",
    "contador = 1\n",
    "objeto_perdido = input(\"Qual objeto você perdeu\")\n",
    "# print(\"Ué, cadê o meu carregador?\")\n",
    "# print(\"Vou olhar aqui na minha mochila\")\n",
    "\n",
    "for objeto in mochila:\n",
    "    if objeto != objeto_perdido: #aqui para cade elemento da minha lista eu testarei a condição mencionada em if\n",
    "        print(\"Procurando...\") #se a condição for verdadeira o código do bloco if será executado\n",
    "        contador += 1\n",
    "\n",
    "    else:\n",
    "        print(\"achei, ele estava no bolso\", contador) #caso contrário o código do bloco else será executado\n",
    "        break\n",
    "\n",
    "\n"
   ]
  },
  {
   "cell_type": "markdown",
   "id": "5c93abbf",
   "metadata": {},
   "source": [
    "Agora é a sua vez!\n",
    "\n",
    "Faça um programa que:\n",
    "\n",
    "1- crie uma lista com pelo menos dez elementos numéricos\n",
    "\n",
    "2- passe por todos eles\n",
    "\n",
    "3- imprima a soma total de todos os elementos"
   ]
  },
  {
   "cell_type": "code",
   "execution_count": null,
   "id": "b7e69f26",
   "metadata": {},
   "outputs": [
    {
     "name": "stdout",
     "output_type": "stream",
     "text": [
      "55\n"
     ]
    }
   ],
   "source": [
    "#FAÇA O EXERCÍCIO AQUI\n"
   ]
  },
  {
   "cell_type": "code",
   "execution_count": null,
   "id": "285ed662",
   "metadata": {},
   "outputs": [],
   "source": [
    "#CURIOSIDADE - OUTRAS EXCENTRICIDADES DO FOR (for in range)\n",
    "\n",
    "for n in range(10): #utilizado para contagem dinâmica - sozinho o parâmentro será stop\n",
    "    print(n)\n",
    "\n",
    "print(\"\\n\")\n",
    "\n",
    "for n in range(0, 12, 1): #três parâmetros (start- por qual número a contagem vai começar, stop- qual número a contagem para, step- de quanto em quanto)\n",
    "    print(n)\n"
   ]
  },
  {
   "cell_type": "code",
   "execution_count": null,
   "id": "bfd83899",
   "metadata": {},
   "outputs": [],
   "source": [
    "#CURIOSIDADE - OUTRAS EXCENTRICIDADES DO FOR (enumerate)\n",
    "\n",
    "lista_de_estados = [\"São Paulo\", \"Minas Gerais\", \"Rio de Janeiro\", \"Espirito Santo\"]\n",
    "\n",
    "for indice, estado in enumerate(lista_de_estados): #utilizamos o enumerate para poder trabalhar com indice e elemento ao mesmo tempo dentro do for\n",
    "    print(indice + 1, estado)\n"
   ]
  }
 ],
 "metadata": {
  "kernelspec": {
   "display_name": "Python 3",
   "language": "python",
   "name": "python3"
  },
  "language_info": {
   "codemirror_mode": {
    "name": "ipython",
    "version": 3
   },
   "file_extension": ".py",
   "mimetype": "text/x-python",
   "name": "python",
   "nbconvert_exporter": "python",
   "pygments_lexer": "ipython3",
   "version": "3.12.3"
  }
 },
 "nbformat": 4,
 "nbformat_minor": 5
}
